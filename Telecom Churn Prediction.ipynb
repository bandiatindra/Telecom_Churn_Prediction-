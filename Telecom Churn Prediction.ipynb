{
 "cells": [
  {
   "cell_type": "markdown",
   "metadata": {
    "_uuid": "3544313683eb7fc71db62dea38a54a3482efec26"
   },
   "source": [
    "# Telecom Churn Prediction"
   ]
  },
  {
   "cell_type": "markdown",
   "metadata": {
    "_uuid": "db15e9d14568dbe9d4091a9efe0dd1fd946b137a"
   },
   "source": [
    "Churn is a one of the biggest problem in  the telecom industry. Research has shown that the average monthly churn rate among the top 4 wireless carriers in the US is 1.9% - 2%. In this analysis I have tried to first develop some hypothesis by cinducing a detailed exploratory data analysis for churn in the Telecom Industry and used predictive analytics to accurately predict the customers wh are likely to churn. \n",
    "\n",
    "I have explored the following classficiation techniques and compared their accuracy and other metrics such as ROC-AUC score, True Positive Rate and False Positive Rate.\n",
    "\n",
    "Models Explored - \n",
    "\n",
    "\n",
    "1. Logistic Regression\n",
    "2. Random Forests\n",
    "3. Supprt Vector Machines (SVMs)\n",
    "4. ADABoost\n",
    "5. XG Boost\n",
    "\n",
    "Overall Approach is as follows - \n",
    "\n",
    "1. Data Preprocessing - To check for any missing values, correlated variables and dummy encoding\n",
    "2. EDA to develop hypothesis\n",
    "3. Scaling data to make sure we are using scaled data to improve accuracy\n",
    "4. Splitting data into train & test datasets\n",
    "5. Training each of the above models using cross validation\n",
    "6. Testing the accuracy on test data and plotting ROC curves for each of the models\n",
    "7. Comparing each model on various metrics and identifying the important parameters which help explain churn."
   ]
  },
  {
   "cell_type": "markdown",
   "metadata": {},
   "source": [
    "### Importing Packages"
   ]
  },
  {
   "cell_type": "code",
   "execution_count": 93,
   "metadata": {
    "_cell_guid": "b1076dfc-b9ad-4769-8c92-a6c4dae69d19",
    "_uuid": "8f2839f25d086af736a60e9eeb907d3b93b6e0e5"
   },
   "outputs": [],
   "source": [
    "import numpy as np # linear algebra\n",
    "import pandas as pd # data processing, CSV file I/O (e.g. pd.read_csv)\n",
    "import seaborn as sns # For creating plots\n",
    "import matplotlib.ticker as mtick # For specifying the axes tick format \n",
    "import matplotlib.pyplot as plt\n",
    "from sklearn.metrics import confusion_matrix, accuracy_score, precision_recall_curve, auc, roc_auc_score,\\\n",
    "roc_curve, recall_score, classification_report # Importing all the metrics we will be needing to evaluate our results\n",
    "from sklearn.model_selection import GridSearchCV # Importing Gridsearchcv for cross validation \n",
    "# Importing modules for pyplot\n",
    "import plotly.offline as py\n",
    "from plotly.offline import download_plotlyjs, init_notebook_mode, plot, iplot\n",
    "import plotly.graph_objs as go\n",
    "import plotly.tools as tls\n",
    "from yellowbrick.classifier import DiscriminationThreshold\n",
    "\n",
    "# Ignoring Warnings\n",
    "import warnings\n",
    "warnings.filterwarnings(\"ignore\")\n",
    "\n",
    "sns.set(style = 'white')\n"
   ]
  },
  {
   "cell_type": "markdown",
   "metadata": {
    "_uuid": "72e4750b2861fe4d89197b4c73ad861544701c4f"
   },
   "source": [
    "**Let us read the data file in the python notebook**"
   ]
  },
  {
   "cell_type": "code",
   "execution_count": 2,
   "metadata": {
    "_cell_guid": "79c7e3d0-c299-4dcb-8224-4455121ee9b0",
    "_uuid": "d629ff2d2480ee46fbb7e2d37f6b5fab8052498a"
   },
   "outputs": [],
   "source": [
    "telecom_cust = pd.read_csv('WA_Fn-UseC_-Telco-Customer-Churn.csv')"
   ]
  },
  {
   "cell_type": "code",
   "execution_count": 3,
   "metadata": {
    "_uuid": "9dc64474af58b8114afb60f83cd1a002722ba74c"
   },
   "outputs": [
    {
     "data": {
      "text/html": [
       "<div>\n",
       "<style scoped>\n",
       "    .dataframe tbody tr th:only-of-type {\n",
       "        vertical-align: middle;\n",
       "    }\n",
       "\n",
       "    .dataframe tbody tr th {\n",
       "        vertical-align: top;\n",
       "    }\n",
       "\n",
       "    .dataframe thead th {\n",
       "        text-align: right;\n",
       "    }\n",
       "</style>\n",
       "<table border=\"1\" class=\"dataframe\">\n",
       "  <thead>\n",
       "    <tr style=\"text-align: right;\">\n",
       "      <th></th>\n",
       "      <th>customerID</th>\n",
       "      <th>gender</th>\n",
       "      <th>SeniorCitizen</th>\n",
       "      <th>Partner</th>\n",
       "      <th>Dependents</th>\n",
       "      <th>tenure</th>\n",
       "      <th>PhoneService</th>\n",
       "      <th>MultipleLines</th>\n",
       "      <th>InternetService</th>\n",
       "      <th>OnlineSecurity</th>\n",
       "      <th>...</th>\n",
       "      <th>DeviceProtection</th>\n",
       "      <th>TechSupport</th>\n",
       "      <th>StreamingTV</th>\n",
       "      <th>StreamingMovies</th>\n",
       "      <th>Contract</th>\n",
       "      <th>PaperlessBilling</th>\n",
       "      <th>PaymentMethod</th>\n",
       "      <th>MonthlyCharges</th>\n",
       "      <th>TotalCharges</th>\n",
       "      <th>Churn</th>\n",
       "    </tr>\n",
       "  </thead>\n",
       "  <tbody>\n",
       "    <tr>\n",
       "      <th>0</th>\n",
       "      <td>7590-VHVEG</td>\n",
       "      <td>Female</td>\n",
       "      <td>0</td>\n",
       "      <td>Yes</td>\n",
       "      <td>No</td>\n",
       "      <td>1</td>\n",
       "      <td>No</td>\n",
       "      <td>No phone service</td>\n",
       "      <td>DSL</td>\n",
       "      <td>No</td>\n",
       "      <td>...</td>\n",
       "      <td>No</td>\n",
       "      <td>No</td>\n",
       "      <td>No</td>\n",
       "      <td>No</td>\n",
       "      <td>Month-to-month</td>\n",
       "      <td>Yes</td>\n",
       "      <td>Electronic check</td>\n",
       "      <td>29.85</td>\n",
       "      <td>29.85</td>\n",
       "      <td>No</td>\n",
       "    </tr>\n",
       "    <tr>\n",
       "      <th>1</th>\n",
       "      <td>5575-GNVDE</td>\n",
       "      <td>Male</td>\n",
       "      <td>0</td>\n",
       "      <td>No</td>\n",
       "      <td>No</td>\n",
       "      <td>34</td>\n",
       "      <td>Yes</td>\n",
       "      <td>No</td>\n",
       "      <td>DSL</td>\n",
       "      <td>Yes</td>\n",
       "      <td>...</td>\n",
       "      <td>Yes</td>\n",
       "      <td>No</td>\n",
       "      <td>No</td>\n",
       "      <td>No</td>\n",
       "      <td>One year</td>\n",
       "      <td>No</td>\n",
       "      <td>Mailed check</td>\n",
       "      <td>56.95</td>\n",
       "      <td>1889.5</td>\n",
       "      <td>No</td>\n",
       "    </tr>\n",
       "    <tr>\n",
       "      <th>2</th>\n",
       "      <td>3668-QPYBK</td>\n",
       "      <td>Male</td>\n",
       "      <td>0</td>\n",
       "      <td>No</td>\n",
       "      <td>No</td>\n",
       "      <td>2</td>\n",
       "      <td>Yes</td>\n",
       "      <td>No</td>\n",
       "      <td>DSL</td>\n",
       "      <td>Yes</td>\n",
       "      <td>...</td>\n",
       "      <td>No</td>\n",
       "      <td>No</td>\n",
       "      <td>No</td>\n",
       "      <td>No</td>\n",
       "      <td>Month-to-month</td>\n",
       "      <td>Yes</td>\n",
       "      <td>Mailed check</td>\n",
       "      <td>53.85</td>\n",
       "      <td>108.15</td>\n",
       "      <td>Yes</td>\n",
       "    </tr>\n",
       "    <tr>\n",
       "      <th>3</th>\n",
       "      <td>7795-CFOCW</td>\n",
       "      <td>Male</td>\n",
       "      <td>0</td>\n",
       "      <td>No</td>\n",
       "      <td>No</td>\n",
       "      <td>45</td>\n",
       "      <td>No</td>\n",
       "      <td>No phone service</td>\n",
       "      <td>DSL</td>\n",
       "      <td>Yes</td>\n",
       "      <td>...</td>\n",
       "      <td>Yes</td>\n",
       "      <td>Yes</td>\n",
       "      <td>No</td>\n",
       "      <td>No</td>\n",
       "      <td>One year</td>\n",
       "      <td>No</td>\n",
       "      <td>Bank transfer (automatic)</td>\n",
       "      <td>42.30</td>\n",
       "      <td>1840.75</td>\n",
       "      <td>No</td>\n",
       "    </tr>\n",
       "    <tr>\n",
       "      <th>4</th>\n",
       "      <td>9237-HQITU</td>\n",
       "      <td>Female</td>\n",
       "      <td>0</td>\n",
       "      <td>No</td>\n",
       "      <td>No</td>\n",
       "      <td>2</td>\n",
       "      <td>Yes</td>\n",
       "      <td>No</td>\n",
       "      <td>Fiber optic</td>\n",
       "      <td>No</td>\n",
       "      <td>...</td>\n",
       "      <td>No</td>\n",
       "      <td>No</td>\n",
       "      <td>No</td>\n",
       "      <td>No</td>\n",
       "      <td>Month-to-month</td>\n",
       "      <td>Yes</td>\n",
       "      <td>Electronic check</td>\n",
       "      <td>70.70</td>\n",
       "      <td>151.65</td>\n",
       "      <td>Yes</td>\n",
       "    </tr>\n",
       "  </tbody>\n",
       "</table>\n",
       "<p>5 rows × 21 columns</p>\n",
       "</div>"
      ],
      "text/plain": [
       "   customerID  gender  SeniorCitizen Partner Dependents  tenure PhoneService  \\\n",
       "0  7590-VHVEG  Female              0     Yes         No       1           No   \n",
       "1  5575-GNVDE    Male              0      No         No      34          Yes   \n",
       "2  3668-QPYBK    Male              0      No         No       2          Yes   \n",
       "3  7795-CFOCW    Male              0      No         No      45           No   \n",
       "4  9237-HQITU  Female              0      No         No       2          Yes   \n",
       "\n",
       "      MultipleLines InternetService OnlineSecurity  ...  DeviceProtection  \\\n",
       "0  No phone service             DSL             No  ...                No   \n",
       "1                No             DSL            Yes  ...               Yes   \n",
       "2                No             DSL            Yes  ...                No   \n",
       "3  No phone service             DSL            Yes  ...               Yes   \n",
       "4                No     Fiber optic             No  ...                No   \n",
       "\n",
       "  TechSupport StreamingTV StreamingMovies        Contract PaperlessBilling  \\\n",
       "0          No          No              No  Month-to-month              Yes   \n",
       "1          No          No              No        One year               No   \n",
       "2          No          No              No  Month-to-month              Yes   \n",
       "3         Yes          No              No        One year               No   \n",
       "4          No          No              No  Month-to-month              Yes   \n",
       "\n",
       "               PaymentMethod MonthlyCharges  TotalCharges Churn  \n",
       "0           Electronic check          29.85         29.85    No  \n",
       "1               Mailed check          56.95        1889.5    No  \n",
       "2               Mailed check          53.85        108.15   Yes  \n",
       "3  Bank transfer (automatic)          42.30       1840.75    No  \n",
       "4           Electronic check          70.70        151.65   Yes  \n",
       "\n",
       "[5 rows x 21 columns]"
      ]
     },
     "execution_count": 3,
     "metadata": {},
     "output_type": "execute_result"
    }
   ],
   "source": [
    "telecom_cust.head()"
   ]
  },
  {
   "cell_type": "code",
   "execution_count": 4,
   "metadata": {
    "_uuid": "d814e5db6f76a4e90b8496f09d0ba340d1eae808",
    "collapsed": true
   },
   "outputs": [
    {
     "data": {
      "text/plain": [
       "array(['customerID', 'gender', 'SeniorCitizen', 'Partner', 'Dependents',\n",
       "       'tenure', 'PhoneService', 'MultipleLines', 'InternetService',\n",
       "       'OnlineSecurity', 'OnlineBackup', 'DeviceProtection',\n",
       "       'TechSupport', 'StreamingTV', 'StreamingMovies', 'Contract',\n",
       "       'PaperlessBilling', 'PaymentMethod', 'MonthlyCharges',\n",
       "       'TotalCharges', 'Churn'], dtype=object)"
      ]
     },
     "execution_count": 4,
     "metadata": {},
     "output_type": "execute_result"
    }
   ],
   "source": [
    "telecom_cust.columns.values"
   ]
  },
  {
   "cell_type": "markdown",
   "metadata": {
    "_uuid": "16fb2729865787705742df465100419d7988837c"
   },
   "source": [
    "**Let's explore the data to see if there are any missing values.**"
   ]
  },
  {
   "cell_type": "code",
   "execution_count": 5,
   "metadata": {
    "_uuid": "641531c5f3131228c78e6a200e0410a161ccb2b0",
    "collapsed": true
   },
   "outputs": [
    {
     "data": {
      "text/plain": [
       "customerID           object\n",
       "gender               object\n",
       "SeniorCitizen         int64\n",
       "Partner              object\n",
       "Dependents           object\n",
       "tenure                int64\n",
       "PhoneService         object\n",
       "MultipleLines        object\n",
       "InternetService      object\n",
       "OnlineSecurity       object\n",
       "OnlineBackup         object\n",
       "DeviceProtection     object\n",
       "TechSupport          object\n",
       "StreamingTV          object\n",
       "StreamingMovies      object\n",
       "Contract             object\n",
       "PaperlessBilling     object\n",
       "PaymentMethod        object\n",
       "MonthlyCharges      float64\n",
       "TotalCharges         object\n",
       "Churn                object\n",
       "dtype: object"
      ]
     },
     "execution_count": 5,
     "metadata": {},
     "output_type": "execute_result"
    }
   ],
   "source": [
    "# Checking the data types of all the columns\n",
    "telecom_cust.dtypes"
   ]
  },
  {
   "cell_type": "code",
   "execution_count": 6,
   "metadata": {
    "_uuid": "1d2c01029124a6fe73b3ec3fc4efdb66647d64e1",
    "collapsed": true
   },
   "outputs": [
    {
     "data": {
      "text/plain": [
       "customerID           0\n",
       "gender               0\n",
       "SeniorCitizen        0\n",
       "Partner              0\n",
       "Dependents           0\n",
       "tenure               0\n",
       "PhoneService         0\n",
       "MultipleLines        0\n",
       "InternetService      0\n",
       "OnlineSecurity       0\n",
       "OnlineBackup         0\n",
       "DeviceProtection     0\n",
       "TechSupport          0\n",
       "StreamingTV          0\n",
       "StreamingMovies      0\n",
       "Contract             0\n",
       "PaperlessBilling     0\n",
       "PaymentMethod        0\n",
       "MonthlyCharges       0\n",
       "TotalCharges        11\n",
       "Churn                0\n",
       "dtype: int64"
      ]
     },
     "execution_count": 6,
     "metadata": {},
     "output_type": "execute_result"
    }
   ],
   "source": [
    "# Converting Total Charges to a numerical data type.\n",
    "telecom_cust.TotalCharges = pd.to_numeric(telecom_cust.TotalCharges, errors='coerce')\n",
    "telecom_cust.isnull().sum()"
   ]
  },
  {
   "cell_type": "markdown",
   "metadata": {
    "_uuid": "4c997dec9dbb501333f6a1562e9092e1008df58f"
   },
   "source": [
    "After looking at the above output, we can say that there are 11 missing values for Total Charges. Let us replace remove these 11 rows from our data set"
   ]
  },
  {
   "cell_type": "code",
   "execution_count": 7,
   "metadata": {
    "_uuid": "35b6c18a5b84dd1e5fa014b49fcfce8ee43aaabe",
    "collapsed": true
   },
   "outputs": [
    {
     "data": {
      "text/html": [
       "<div>\n",
       "<style scoped>\n",
       "    .dataframe tbody tr th:only-of-type {\n",
       "        vertical-align: middle;\n",
       "    }\n",
       "\n",
       "    .dataframe tbody tr th {\n",
       "        vertical-align: top;\n",
       "    }\n",
       "\n",
       "    .dataframe thead th {\n",
       "        text-align: right;\n",
       "    }\n",
       "</style>\n",
       "<table border=\"1\" class=\"dataframe\">\n",
       "  <thead>\n",
       "    <tr style=\"text-align: right;\">\n",
       "      <th></th>\n",
       "      <th>SeniorCitizen</th>\n",
       "      <th>tenure</th>\n",
       "      <th>MonthlyCharges</th>\n",
       "      <th>TotalCharges</th>\n",
       "      <th>Churn</th>\n",
       "      <th>gender_Female</th>\n",
       "      <th>gender_Male</th>\n",
       "      <th>Partner_No</th>\n",
       "      <th>Partner_Yes</th>\n",
       "      <th>Dependents_No</th>\n",
       "      <th>...</th>\n",
       "      <th>StreamingMovies_Yes</th>\n",
       "      <th>Contract_Month-to-month</th>\n",
       "      <th>Contract_One year</th>\n",
       "      <th>Contract_Two year</th>\n",
       "      <th>PaperlessBilling_No</th>\n",
       "      <th>PaperlessBilling_Yes</th>\n",
       "      <th>PaymentMethod_Bank transfer (automatic)</th>\n",
       "      <th>PaymentMethod_Credit card (automatic)</th>\n",
       "      <th>PaymentMethod_Electronic check</th>\n",
       "      <th>PaymentMethod_Mailed check</th>\n",
       "    </tr>\n",
       "  </thead>\n",
       "  <tbody>\n",
       "    <tr>\n",
       "      <th>0</th>\n",
       "      <td>0</td>\n",
       "      <td>1</td>\n",
       "      <td>29.85</td>\n",
       "      <td>29.85</td>\n",
       "      <td>0</td>\n",
       "      <td>1</td>\n",
       "      <td>0</td>\n",
       "      <td>0</td>\n",
       "      <td>1</td>\n",
       "      <td>1</td>\n",
       "      <td>...</td>\n",
       "      <td>0</td>\n",
       "      <td>1</td>\n",
       "      <td>0</td>\n",
       "      <td>0</td>\n",
       "      <td>0</td>\n",
       "      <td>1</td>\n",
       "      <td>0</td>\n",
       "      <td>0</td>\n",
       "      <td>1</td>\n",
       "      <td>0</td>\n",
       "    </tr>\n",
       "    <tr>\n",
       "      <th>1</th>\n",
       "      <td>0</td>\n",
       "      <td>34</td>\n",
       "      <td>56.95</td>\n",
       "      <td>1889.50</td>\n",
       "      <td>0</td>\n",
       "      <td>0</td>\n",
       "      <td>1</td>\n",
       "      <td>1</td>\n",
       "      <td>0</td>\n",
       "      <td>1</td>\n",
       "      <td>...</td>\n",
       "      <td>0</td>\n",
       "      <td>0</td>\n",
       "      <td>1</td>\n",
       "      <td>0</td>\n",
       "      <td>1</td>\n",
       "      <td>0</td>\n",
       "      <td>0</td>\n",
       "      <td>0</td>\n",
       "      <td>0</td>\n",
       "      <td>1</td>\n",
       "    </tr>\n",
       "    <tr>\n",
       "      <th>2</th>\n",
       "      <td>0</td>\n",
       "      <td>2</td>\n",
       "      <td>53.85</td>\n",
       "      <td>108.15</td>\n",
       "      <td>1</td>\n",
       "      <td>0</td>\n",
       "      <td>1</td>\n",
       "      <td>1</td>\n",
       "      <td>0</td>\n",
       "      <td>1</td>\n",
       "      <td>...</td>\n",
       "      <td>0</td>\n",
       "      <td>1</td>\n",
       "      <td>0</td>\n",
       "      <td>0</td>\n",
       "      <td>0</td>\n",
       "      <td>1</td>\n",
       "      <td>0</td>\n",
       "      <td>0</td>\n",
       "      <td>0</td>\n",
       "      <td>1</td>\n",
       "    </tr>\n",
       "    <tr>\n",
       "      <th>3</th>\n",
       "      <td>0</td>\n",
       "      <td>45</td>\n",
       "      <td>42.30</td>\n",
       "      <td>1840.75</td>\n",
       "      <td>0</td>\n",
       "      <td>0</td>\n",
       "      <td>1</td>\n",
       "      <td>1</td>\n",
       "      <td>0</td>\n",
       "      <td>1</td>\n",
       "      <td>...</td>\n",
       "      <td>0</td>\n",
       "      <td>0</td>\n",
       "      <td>1</td>\n",
       "      <td>0</td>\n",
       "      <td>1</td>\n",
       "      <td>0</td>\n",
       "      <td>1</td>\n",
       "      <td>0</td>\n",
       "      <td>0</td>\n",
       "      <td>0</td>\n",
       "    </tr>\n",
       "    <tr>\n",
       "      <th>4</th>\n",
       "      <td>0</td>\n",
       "      <td>2</td>\n",
       "      <td>70.70</td>\n",
       "      <td>151.65</td>\n",
       "      <td>1</td>\n",
       "      <td>1</td>\n",
       "      <td>0</td>\n",
       "      <td>1</td>\n",
       "      <td>0</td>\n",
       "      <td>1</td>\n",
       "      <td>...</td>\n",
       "      <td>0</td>\n",
       "      <td>1</td>\n",
       "      <td>0</td>\n",
       "      <td>0</td>\n",
       "      <td>0</td>\n",
       "      <td>1</td>\n",
       "      <td>0</td>\n",
       "      <td>0</td>\n",
       "      <td>1</td>\n",
       "      <td>0</td>\n",
       "    </tr>\n",
       "  </tbody>\n",
       "</table>\n",
       "<p>5 rows × 46 columns</p>\n",
       "</div>"
      ],
      "text/plain": [
       "   SeniorCitizen  tenure  MonthlyCharges  TotalCharges  Churn  gender_Female  \\\n",
       "0              0       1           29.85         29.85      0              1   \n",
       "1              0      34           56.95       1889.50      0              0   \n",
       "2              0       2           53.85        108.15      1              0   \n",
       "3              0      45           42.30       1840.75      0              0   \n",
       "4              0       2           70.70        151.65      1              1   \n",
       "\n",
       "   gender_Male  Partner_No  Partner_Yes  Dependents_No  \\\n",
       "0            0           0            1              1   \n",
       "1            1           1            0              1   \n",
       "2            1           1            0              1   \n",
       "3            1           1            0              1   \n",
       "4            0           1            0              1   \n",
       "\n",
       "              ...              StreamingMovies_Yes  Contract_Month-to-month  \\\n",
       "0             ...                                0                        1   \n",
       "1             ...                                0                        0   \n",
       "2             ...                                0                        1   \n",
       "3             ...                                0                        0   \n",
       "4             ...                                0                        1   \n",
       "\n",
       "   Contract_One year  Contract_Two year  PaperlessBilling_No  \\\n",
       "0                  0                  0                    0   \n",
       "1                  1                  0                    1   \n",
       "2                  0                  0                    0   \n",
       "3                  1                  0                    1   \n",
       "4                  0                  0                    0   \n",
       "\n",
       "   PaperlessBilling_Yes  PaymentMethod_Bank transfer (automatic)  \\\n",
       "0                     1                                        0   \n",
       "1                     0                                        0   \n",
       "2                     1                                        0   \n",
       "3                     0                                        1   \n",
       "4                     1                                        0   \n",
       "\n",
       "   PaymentMethod_Credit card (automatic)  PaymentMethod_Electronic check  \\\n",
       "0                                      0                               1   \n",
       "1                                      0                               0   \n",
       "2                                      0                               0   \n",
       "3                                      0                               0   \n",
       "4                                      0                               1   \n",
       "\n",
       "   PaymentMethod_Mailed check  \n",
       "0                           0  \n",
       "1                           1  \n",
       "2                           1  \n",
       "3                           0  \n",
       "4                           0  \n",
       "\n",
       "[5 rows x 46 columns]"
      ]
     },
     "execution_count": 7,
     "metadata": {},
     "output_type": "execute_result"
    }
   ],
   "source": [
    "#Removing missing values \n",
    "telecom_cust.dropna(inplace = True)\n",
    "#Remove customer IDs from the data set\n",
    "df2 = telecom_cust.iloc[:,1:]\n",
    "#Convertin the predictor variable in a binary numeric variable\n",
    "df2['Churn'].replace(to_replace='Yes', value=1, inplace=True)\n",
    "df2['Churn'].replace(to_replace='No',  value=0, inplace=True)\n",
    "\n",
    "#Let's convert all the categorical variables into dummy variables\n",
    "df_dummies = pd.get_dummies(df2)\n",
    "df_dummies.head()"
   ]
  },
  {
   "cell_type": "code",
   "execution_count": 8,
   "metadata": {
    "_uuid": "57fad0b9bcd9188193c84ae48ea589123532eac8",
    "collapsed": true
   },
   "outputs": [
    {
     "data": {
      "text/plain": [
       "<matplotlib.axes._subplots.AxesSubplot at 0x2a6953fd470>"
      ]
     },
     "execution_count": 8,
     "metadata": {},
     "output_type": "execute_result"
    },
    {
     "data": {
      "image/png": "[encoded data removed]",
      "text/plain": [
       "<Figure size 1080x576 with 1 Axes>"
      ]
     },
     "metadata": {},
     "output_type": "display_data"
    }
   ],
   "source": [
    "#Get Correlation of \"Churn\" with other variables:\n",
    "plt.figure(figsize=(15,8))\n",
    "df_dummies.corr()['Churn'].sort_values(ascending = False).plot(kind='bar')"
   ]
  },
  {
   "cell_type": "markdown",
   "metadata": {
    "_uuid": "e4f114358ce3d568a34c1ac419623274a345812e"
   },
   "source": [
    "Month to month contracts, absence of online security and tech support seem to be positively correlated with churn. While, tenure, two year contracts seem to be negatively correlated with churn. \n",
    "\n",
    "Interestingly, services such as Online security, streaming TV, online backup, tech support, etc. without internet connection seem to be negatively related to churn.\n",
    "\n",
    "We will explore the patterns for the above correlations below before we delve into modelling and identifying the important variables."
   ]
  },
  {
   "cell_type": "markdown",
   "metadata": {
    "_uuid": "36df8a7ca36ca8afe570cc985582ef12bc1bc7f8"
   },
   "source": [
    "## Data Exploration\n",
    "\n",
    "Let us first start with exploring our data set, to better understand the patterns in the data and potentially form some hypothesis. First we will look at the distribution of individual variables and then slice and dice our data for any interesting trends."
   ]
  },
  {
   "cell_type": "markdown",
   "metadata": {
    "_uuid": "3755c7c8080f09fc745f8db11d9205102de6780e"
   },
   "source": [
    "**A.)** ***Demographics*** - Let us first understand the gender, age range, patner and dependent status of the customers"
   ]
  },
  {
   "cell_type": "markdown",
   "metadata": {
    "_uuid": "e98209bca3edf4f3ea0d2bdea092b152f09f6bbb"
   },
   "source": [
    "1. **Gender Distribution** - About half of the customers in our data set are male while the other half are female"
   ]
  },
  {
   "cell_type": "code",
   "execution_count": 9,
   "metadata": {
    "_uuid": "d507f49a7e96b7618b57e0812eed8847543b1c64",
    "collapsed": true
   },
   "outputs": [
    {
     "data": {
      "image/png": "[encoded data removed]",
      "text/plain": [
       "<Figure size 432x288 with 1 Axes>"
      ]
     },
     "metadata": {},
     "output_type": "display_data"
    }
   ],
   "source": [
    "colors = ['#4D3425','#E4512B']\n",
    "ax = (telecom_cust['gender'].value_counts()*100.0 /len(telecom_cust)).plot(kind='bar',\n",
    "                                                                           stacked = True,\n",
    "                                                                          rot = 0,\n",
    "                                                                          color = colors)\n",
    "ax.yaxis.set_major_formatter(mtick.PercentFormatter())\n",
    "ax.set_ylabel('% Customers')\n",
    "ax.set_xlabel('Gender')\n",
    "ax.set_ylabel('% Customers')\n",
    "ax.set_title('Gender Distribution')\n",
    "\n",
    "# create a list to collect the plt.patches data\n",
    "totals = []\n",
    "\n",
    "# find the values and append to list\n",
    "for i in ax.patches:\n",
    "    totals.append(i.get_width())\n",
    "\n",
    "# set individual bar lables using above list\n",
    "total = sum(totals)\n",
    "\n",
    "for i in ax.patches:\n",
    "    # get_width pulls left or right; get_y pushes up or down\n",
    "    ax.text(i.get_x()+.15, i.get_height()-3.5, \\\n",
    "            str(round((i.get_height()/total), 1))+'%',\n",
    "            fontsize=12,\n",
    "            color='white',\n",
    "           weight = 'bold')"
   ]
  },
  {
   "cell_type": "markdown",
   "metadata": {
    "_uuid": "b9cceb14a980ddcd1ac36552947f1571706e0c17"
   },
   "source": [
    "2. **% Senior Citizens** - There are only 16% of the customers who are senior citizens. Thus most of our customers in the data are younger people.\n"
   ]
  },
  {
   "cell_type": "code",
   "execution_count": 10,
   "metadata": {
    "_uuid": "b552f24e928a6e41806ddfa10f49c331988e60e3",
    "collapsed": true
   },
   "outputs": [
    {
     "data": {
      "text/plain": [
       "Text(0.5,1,'% of Senior Citizens')"
      ]
     },
     "execution_count": 10,
     "metadata": {},
     "output_type": "execute_result"
    },
    {
     "data": {
      "image/png": "[encoded data removed]",
      "text/plain": [
       "<Figure size 360x360 with 1 Axes>"
      ]
     },
     "metadata": {},
     "output_type": "display_data"
    }
   ],
   "source": [
    "ax = (telecom_cust['SeniorCitizen'].value_counts()*100.0 /len(telecom_cust))\\\n",
    ".plot.pie(autopct='%.1f%%', labels = ['No', 'Yes'],figsize =(5,5), fontsize = 12 )                                                                           \n",
    "ax.yaxis.set_major_formatter(mtick.PercentFormatter())\n",
    "ax.set_ylabel('Senior Citizens',fontsize = 12)\n",
    "ax.set_title('% of Senior Citizens', fontsize = 12)"
   ]
  },
  {
   "cell_type": "markdown",
   "metadata": {
    "_uuid": "ae9ffa571dcf10f3cb0d8dc56e827cdf25fcf4e5",
    "collapsed": true
   },
   "source": [
    "3. **Partner and dependent status**  - About 50% of the customers have a partner, while only 30% of the total customers have dependents. "
   ]
  },
  {
   "cell_type": "code",
   "execution_count": 11,
   "metadata": {
    "_uuid": "6127f191c43a00f8f0bc865c327ce0632e2eeb3e",
    "collapsed": true
   },
   "outputs": [
    {
     "data": {
      "image/png": "[encoded data removed]",
      "text/plain": [
       "<Figure size 576x432 with 1 Axes>"
      ]
     },
     "metadata": {},
     "output_type": "display_data"
    }
   ],
   "source": [
    "df2 = pd.melt(telecom_cust, id_vars=['customerID'], value_vars=['Dependents','Partner'])\n",
    "df3 = df2.groupby(['variable','value']).count().unstack()\n",
    "df3 = df3*100/len(telecom_cust)\n",
    "colors = ['#4D3425','#E4512B']\n",
    "ax = df3.loc[:,'customerID'].plot.bar(stacked=True, color=colors,\n",
    "                                      figsize=(8,6),rot = 0,\n",
    "                                     width = 0.2)\n",
    "\n",
    "ax.yaxis.set_major_formatter(mtick.PercentFormatter())\n",
    "ax.set_ylabel('% Customers')\n",
    "ax.set_xlabel('')\n",
    "ax.set_title('% Customers with dependents and partners')\n",
    "ax.legend(loc = 'center',prop={'size':12},title = \"Yes/No\")\n",
    "\n",
    "for p in ax.patches:\n",
    "    width, height = p.get_width(), p.get_height()\n",
    "    x, y = p.get_xy() \n",
    "    ax.annotate('{:.0f}%'.format(height), (p.get_x()+.25*width, p.get_y()+.4*height),\n",
    "                color = 'white',\n",
    "               weight = 'bold')"
   ]
  },
  {
   "cell_type": "markdown",
   "metadata": {
    "_uuid": "ef1d5a99fb546b501b2cb5b35d5fb437303b4c20"
   },
   "source": [
    "**What would be interesting is to look at the % of customers, who have partners, also have dependents. We will explore this next. **"
   ]
  },
  {
   "cell_type": "markdown",
   "metadata": {
    "_uuid": "56ee88a7c14911a3cd79c3b885ac738377baf7aa"
   },
   "source": [
    "Interestingly,  among the customers who have a partner, only about half of them also have a dependent, while other half do not have any independents. \n",
    "Additionally, as expected, among the customers who do not have any partner, a majority (80%) of them do not have any dependents ."
   ]
  },
  {
   "cell_type": "code",
   "execution_count": 12,
   "metadata": {
    "_uuid": "f79c281d0cfab3cc8f14979d33834f8834ef9d2e",
    "collapsed": true
   },
   "outputs": [
    {
     "data": {
      "image/png": "[encoded data removed]",
      "text/plain": [
       "<Figure size 576x432 with 1 Axes>"
      ]
     },
     "metadata": {},
     "output_type": "display_data"
    }
   ],
   "source": [
    "colors = ['#4D3425','#E4512B']\n",
    "partner_dependents = telecom_cust.groupby(['Partner','Dependents']).size().unstack()\n",
    "\n",
    "ax = (partner_dependents.T*100.0 / partner_dependents.T.sum()).T.plot(kind='bar',\n",
    "                                                                width = 0.2,\n",
    "                                                                stacked = True,\n",
    "                                                                rot = 0, \n",
    "                                                                figsize = (8,6),\n",
    "                                                                color = colors)\n",
    "ax.yaxis.set_major_formatter(mtick.PercentFormatter())\n",
    "ax.legend(loc='center',prop={'size':12},title = 'Dependents')\n",
    "ax.set_ylabel('% Customers')\n",
    "ax.set_title('% Customers with/without dependents based on whether they have a partner')\n",
    "\n",
    "# Code to add the data labels on the stacked bar chart\n",
    "for p in ax.patches:\n",
    "    width, height = p.get_width(), p.get_height()\n",
    "    x, y = p.get_xy() \n",
    "    ax.annotate('{:.0f}%'.format(height), (p.get_x()+.25*width, p.get_y()+.4*height),\n",
    "                color = 'white',\n",
    "               weight = 'bold')"
   ]
  },
  {
   "cell_type": "markdown",
   "metadata": {
    "_uuid": "3da3b87d7066955df9803b71931c5d5f7f5af1bb"
   },
   "source": [
    "I also looked at any differences between the % of customers with/without dependents and partners by gender. There is no difference in their distribution by gender. Additionally, there is no difference in senior citizen status by gender."
   ]
  },
  {
   "cell_type": "markdown",
   "metadata": {
    "_uuid": "479b11772e5d57dbf5a812abdd07a344e876c935"
   },
   "source": [
    "### B.) **Customer Account Information**:  Let u now look at the tenure, contract"
   ]
  },
  {
   "cell_type": "markdown",
   "metadata": {
    "_uuid": "d3090f6fd85039f6c67875eadf51d59b0d3c27a8"
   },
   "source": [
    "**1. Tenure:**  After looking at the below histogram we can see that a lot of customers have been with the telecom company for just a month, while quite a many are there for about 72 months. This could be potentially because different customers have different contracts. Thus based on the contract they are into it could be more/less easier for the customers to stay/leave the telecom company."
   ]
  },
  {
   "cell_type": "code",
   "execution_count": 13,
   "metadata": {
    "_uuid": "2b1dca3917424690fe006b38b03b46ebf1e751d4",
    "collapsed": true
   },
   "outputs": [
    {
     "name": "stderr",
     "output_type": "stream",
     "text": [
      "C:\\Users\\bandi\\Anaconda3\\lib\\site-packages\\matplotlib\\axes\\_axes.py:6462: UserWarning: The 'normed' kwarg is deprecated, and has been replaced by the 'density' kwarg.\n",
      "  warnings.warn(\"The 'normed' kwarg is deprecated, and has been \"\n"
     ]
    },
    {
     "data": {
      "text/plain": [
       "Text(0.5,1,'# of Customers by their tenure')"
      ]
     },
     "execution_count": 13,
     "metadata": {},
     "output_type": "execute_result"
    },
    {
     "data": {
      "image/png": "[encoded data removed]",
      "text/plain": [
       "<Figure size 432x288 with 1 Axes>"
      ]
     },
     "metadata": {},
     "output_type": "display_data"
    }
   ],
   "source": [
    "ax = sns.distplot(telecom_cust['tenure'], hist=True, kde=False, \n",
    "             bins=int(180/5), color = 'darkblue', \n",
    "             hist_kws={'edgecolor':'black'},\n",
    "             kde_kws={'linewidth': 4})\n",
    "ax.set_ylabel('# of Customers')\n",
    "ax.set_xlabel('Tenure (months)')\n",
    "ax.set_title('# of Customers by their tenure')"
   ]
  },
  {
   "cell_type": "markdown",
   "metadata": {
    "_uuid": "ce5fccc67da0ea51ed1bf9a3451d9aeedfb9cd77"
   },
   "source": [
    "**2. Contracts:** To understand the above graph, lets first look at the # of customers by different contracts. "
   ]
  },
  {
   "cell_type": "code",
   "execution_count": 14,
   "metadata": {
    "_uuid": "b4589d9d041360eb2c1f33bafb61631fa3b1a29e",
    "collapsed": true
   },
   "outputs": [
    {
     "data": {
      "text/plain": [
       "Text(0.5,1,'# of Customers by Contract Type')"
      ]
     },
     "execution_count": 14,
     "metadata": {},
     "output_type": "execute_result"
    },
    {
     "data": {
      "image/png": "[encoded data removed]",
      "text/plain": [
       "<Figure size 432x288 with 1 Axes>"
      ]
     },
     "metadata": {},
     "output_type": "display_data"
    }
   ],
   "source": [
    "ax = telecom_cust['Contract'].value_counts().plot(kind = 'bar',rot = 0, width = 0.3)\n",
    "ax.set_ylabel('# of Customers')\n",
    "ax.set_title('# of Customers by Contract Type')"
   ]
  },
  {
   "cell_type": "markdown",
   "metadata": {
    "_uuid": "0acd43e2b09988ba4d5c0de03cfab1c8a7d684a0"
   },
   "source": [
    "As we can see from this graph most of the customers are in the month to month contract. While there are equal number of customers in the 1 year and 2 year contracts.\n",
    "\n"
   ]
  },
  {
   "cell_type": "markdown",
   "metadata": {
    "_uuid": "cc6cac55a5511342b33fed0feaf3b9624788fd5a"
   },
   "source": [
    "Below we will understand the tenure of customers based on their contract type."
   ]
  },
  {
   "cell_type": "code",
   "execution_count": 15,
   "metadata": {
    "_uuid": "1a616c81b2d4153d3470010a90f03fa25767a7ed",
    "collapsed": true
   },
   "outputs": [
    {
     "name": "stderr",
     "output_type": "stream",
     "text": [
      "C:\\Users\\bandi\\Anaconda3\\lib\\site-packages\\matplotlib\\axes\\_axes.py:6462: UserWarning: The 'normed' kwarg is deprecated, and has been replaced by the 'density' kwarg.\n",
      "  warnings.warn(\"The 'normed' kwarg is deprecated, and has been \"\n",
      "C:\\Users\\bandi\\Anaconda3\\lib\\site-packages\\matplotlib\\axes\\_axes.py:6462: UserWarning: The 'normed' kwarg is deprecated, and has been replaced by the 'density' kwarg.\n",
      "  warnings.warn(\"The 'normed' kwarg is deprecated, and has been \"\n",
      "C:\\Users\\bandi\\Anaconda3\\lib\\site-packages\\matplotlib\\axes\\_axes.py:6462: UserWarning: The 'normed' kwarg is deprecated, and has been replaced by the 'density' kwarg.\n",
      "  warnings.warn(\"The 'normed' kwarg is deprecated, and has been \"\n"
     ]
    },
    {
     "data": {
      "text/plain": [
       "Text(0.5,1,'Two Year Contract')"
      ]
     },
     "execution_count": 15,
     "metadata": {},
     "output_type": "execute_result"
    },
    {
     "data": {
      "image/png": "[encoded data removed]",
      "text/plain": [
       "<Figure size 1440x288 with 3 Axes>"
      ]
     },
     "metadata": {},
     "output_type": "display_data"
    }
   ],
   "source": [
    "fig, (ax1,ax2,ax3) = plt.subplots(nrows=1, ncols=3, sharey = True, figsize = (20,4))\n",
    "\n",
    "ax = sns.distplot(telecom_cust[telecom_cust['Contract']=='Month-to-month']['tenure'],\n",
    "                   hist=True, kde=False,\n",
    "                   bins=int(180/5), color = 'turquoise',\n",
    "                   hist_kws={'edgecolor':'black'},\n",
    "                   kde_kws={'linewidth': 4},\n",
    "                 ax=ax1)\n",
    "ax.set_ylabel('# of Customers')\n",
    "ax.set_xlabel('Tenure (months)')\n",
    "ax.set_title('Month to Month Contract')\n",
    "\n",
    "ax = sns.distplot(telecom_cust[telecom_cust['Contract']=='One year']['tenure'],\n",
    "                   hist=True, kde=False,\n",
    "                   bins=int(180/5), color = 'steelblue',\n",
    "                   hist_kws={'edgecolor':'black'},\n",
    "                   kde_kws={'linewidth': 4},\n",
    "                 ax=ax2)\n",
    "ax.set_xlabel('Tenure (months)')\n",
    "ax.set_title('One Year Contract')\n",
    "\n",
    "ax = sns.distplot(telecom_cust[telecom_cust['Contract']=='Two year']['tenure'],\n",
    "                   hist=True, kde=False,\n",
    "                   bins=int(180/5), color = 'darkblue',\n",
    "                   hist_kws={'edgecolor':'black'},\n",
    "                   kde_kws={'linewidth': 4},\n",
    "                 ax=ax3)\n",
    "\n",
    "ax.set_xlabel('Tenure (months)')\n",
    "ax.set_title('Two Year Contract')"
   ]
  },
  {
   "cell_type": "markdown",
   "metadata": {
    "_uuid": "ee2411d340eb9c03cd45cbaafd391bf60f61653c"
   },
   "source": [
    "Interestingly most of the monthly contracts last for 1-2 months, while the 2 year contracts tend to last for about 70 months. This shows that the customers taking a longer contract are more loyal to the company and tend to stay with it for a longer period of time. \n",
    "\n",
    "This is also what we saw in the earlier chart on correlation with the churn rate. "
   ]
  },
  {
   "cell_type": "markdown",
   "metadata": {
    "_uuid": "7f912f0a732097de7c35920ea25ccf14cd05cc13"
   },
   "source": [
    "###  C. Let us now look at the distribution of various services used by customers"
   ]
  },
  {
   "cell_type": "code",
   "execution_count": 16,
   "metadata": {
    "_uuid": "961cdb51ddd3ccb110555b359394d823c33df66b"
   },
   "outputs": [
    {
     "data": {
      "text/plain": [
       "array(['customerID', 'gender', 'SeniorCitizen', 'Partner', 'Dependents',\n",
       "       'tenure', 'PhoneService', 'MultipleLines', 'InternetService',\n",
       "       'OnlineSecurity', 'OnlineBackup', 'DeviceProtection',\n",
       "       'TechSupport', 'StreamingTV', 'StreamingMovies', 'Contract',\n",
       "       'PaperlessBilling', 'PaymentMethod', 'MonthlyCharges',\n",
       "       'TotalCharges', 'Churn'], dtype=object)"
      ]
     },
     "execution_count": 16,
     "metadata": {},
     "output_type": "execute_result"
    }
   ],
   "source": [
    "\n",
    "telecom_cust.columns.values"
   ]
  },
  {
   "cell_type": "code",
   "execution_count": 17,
   "metadata": {
    "_uuid": "8503e680b82a2492bfed8f29dd2d13dafb7ed661",
    "collapsed": true
   },
   "outputs": [
    {
     "data": {
      "image/png": "[encoded data removed]",
      "text/plain": [
       "<Figure size 1080x864 with 9 Axes>"
      ]
     },
     "metadata": {},
     "output_type": "display_data"
    }
   ],
   "source": [
    "services = ['PhoneService','MultipleLines','InternetService','OnlineSecurity',\n",
    "           'OnlineBackup','DeviceProtection','TechSupport','StreamingTV','StreamingMovies']\n",
    "\n",
    "fig, axes = plt.subplots(nrows = 3,ncols = 3,figsize = (15,12))\n",
    "for i, item in enumerate(services):\n",
    "    if i < 3:\n",
    "        ax = telecom_cust[item].value_counts().plot(kind = 'bar',ax=axes[i,0],rot = 0)\n",
    "        \n",
    "    elif i >=3 and i < 6:\n",
    "        ax = telecom_cust[item].value_counts().plot(kind = 'bar',ax=axes[i-3,1],rot = 0)\n",
    "        \n",
    "    elif i < 9:\n",
    "        ax = telecom_cust[item].value_counts().plot(kind = 'bar',ax=axes[i-6,2],rot = 0)\n",
    "    ax.set_title(item)"
   ]
  },
  {
   "cell_type": "markdown",
   "metadata": {
    "_uuid": "fec8539f6336ca456276f67b6ffd72b8ceb3790e"
   },
   "source": [
    "### D.) Now let's take a quick look at the relation between monthly and total charges"
   ]
  },
  {
   "cell_type": "markdown",
   "metadata": {
    "_uuid": "933ff48d2ebc4c4828a2c998b6f0428767475161"
   },
   "source": [
    "We will observe that the total charges increases as the monthly bill for a customer increases."
   ]
  },
  {
   "cell_type": "code",
   "execution_count": 18,
   "metadata": {
    "_uuid": "4601f238e8fe13cbb815be90718086928a54041b",
    "collapsed": true
   },
   "outputs": [
    {
     "data": {
      "text/plain": [
       "<matplotlib.axes._subplots.AxesSubplot at 0x2a6967f2208>"
      ]
     },
     "execution_count": 18,
     "metadata": {},
     "output_type": "execute_result"
    },
    {
     "data": {
      "image/png": "[encoded data removed]",
      "text/plain": [
       "<Figure size 432x288 with 1 Axes>"
      ]
     },
     "metadata": {},
     "output_type": "display_data"
    }
   ],
   "source": [
    "telecom_cust[['MonthlyCharges', 'TotalCharges']].plot.scatter(x = 'MonthlyCharges',\n",
    "                                                              y='TotalCharges')"
   ]
  },
  {
   "cell_type": "markdown",
   "metadata": {
    "_uuid": "ad813734756bd9cf1d298aee1d4063beef47738f"
   },
   "source": [
    "### E.) Finally, let's take a look at out predictor variable (Churn) and understand its interaction with other important variables as was found out in the correlation plot. "
   ]
  },
  {
   "cell_type": "markdown",
   "metadata": {
    "_uuid": "67dea305467069a89007dd58a5906195ea0627d0"
   },
   "source": [
    "1. Lets first look at the churn rate in our data"
   ]
  },
  {
   "cell_type": "code",
   "execution_count": 19,
   "metadata": {
    "_uuid": "4bef28080b360cbad4944abb2d4f75a440c525e9",
    "collapsed": true
   },
   "outputs": [
    {
     "data": {
      "image/png": "[encoded data removed]",
      "text/plain": [
       "<Figure size 432x288 with 1 Axes>"
      ]
     },
     "metadata": {},
     "output_type": "display_data"
    }
   ],
   "source": [
    "colors = ['#4D3425','#E4512B']\n",
    "ax = (telecom_cust['Churn'].value_counts()*100.0 /len(telecom_cust)).plot(kind='bar',\n",
    "                                                                           stacked = True,\n",
    "                                                                          rot = 0,\n",
    "                                                                          color = colors)\n",
    "ax.yaxis.set_major_formatter(mtick.PercentFormatter())\n",
    "ax.set_ylabel('% Customers')\n",
    "ax.set_xlabel('Churn')\n",
    "ax.set_title('Churn Rate')\n",
    "\n",
    "# create a list to collect the plt.patches data\n",
    "totals = []\n",
    "\n",
    "# find the values and append to list\n",
    "for i in ax.patches:\n",
    "    totals.append(i.get_width())\n",
    "\n",
    "# set individual bar lables using above list\n",
    "total = sum(totals)\n",
    "\n",
    "for i in ax.patches:\n",
    "    # get_width pulls left or right; get_y pushes up or down\n",
    "    ax.text(i.get_x()+.15, i.get_height()-4.0, \\\n",
    "            str(round((i.get_height()/total), 1))+'%',\n",
    "            fontsize=12,\n",
    "            color='white',\n",
    "           weight = 'bold')"
   ]
  },
  {
   "cell_type": "markdown",
   "metadata": {
    "_uuid": "432a25bf5cd664b021617844ba945fce5c6f341b"
   },
   "source": [
    "In our data, 74% of the customers do not churn. Clearly the data is skewed as we would expect a large majority of the customers to not churn. This is important to keep in mind for our modelling as skeweness could lead to a lot of false negatives. We will see in the modelling section on how to avoid skewness in the data."
   ]
  },
  {
   "cell_type": "markdown",
   "metadata": {
    "_uuid": "a9a182eb5bf7832d84072519b01f4ebc741da8a9"
   },
   "source": [
    "2. Lets now explore the churn rate by tenure, seniority, contract type, monthly charges and total charges to see how it varies by these variables."
   ]
  },
  {
   "cell_type": "markdown",
   "metadata": {
    "_uuid": "d6be674fd79a62315fe71699fb1164f31ed1446a"
   },
   "source": [
    "**i.) Churn vs Tenure**: As we can see form the below plot, the customers who do not churn, they tend to stay for a longer tenure with the telecom company. "
   ]
  },
  {
   "cell_type": "code",
   "execution_count": 20,
   "metadata": {
    "_uuid": "e7643a6a6dac23d668aa512b3a922d68ed91abc4",
    "collapsed": true
   },
   "outputs": [
    {
     "data": {
      "text/plain": [
       "<matplotlib.axes._subplots.AxesSubplot at 0x2a6964335f8>"
      ]
     },
     "execution_count": 20,
     "metadata": {},
     "output_type": "execute_result"
    },
    {
     "data": {
      "image/png": "[encoded data removed]",
      "text/plain": [
       "<Figure size 432x288 with 1 Axes>"
      ]
     },
     "metadata": {},
     "output_type": "display_data"
    }
   ],
   "source": [
    "sns.boxplot(x = telecom_cust.Churn, y = telecom_cust.tenure)"
   ]
  },
  {
   "cell_type": "markdown",
   "metadata": {
    "_uuid": "6ef23d7c4fddda89f7ec7c9345851ccd4bcb5089"
   },
   "source": [
    "**ii.) Churn by Contract Type**: Similar to what we saw in the correlation plot, the customers who have a month to month contract have a very high churn rate."
   ]
  },
  {
   "cell_type": "code",
   "execution_count": 21,
   "metadata": {
    "_uuid": "7ddbc6ac84fe48dcea91ce2a60a6103e2a10ad9f",
    "collapsed": true
   },
   "outputs": [
    {
     "data": {
      "image/png": "[encoded data removed]",
      "text/plain": [
       "<Figure size 576x432 with 1 Axes>"
      ]
     },
     "metadata": {},
     "output_type": "display_data"
    }
   ],
   "source": [
    "colors = ['#4D3425','#E4512B']\n",
    "contract_churn = telecom_cust.groupby(['Contract','Churn']).size().unstack()\n",
    "\n",
    "ax = (contract_churn.T*100.0 / contract_churn.T.sum()).T.plot(kind='bar',\n",
    "                                                                width = 0.3,\n",
    "                                                                stacked = True,\n",
    "                                                                rot = 0, \n",
    "                                                                figsize = (8,6),\n",
    "                                                                color = colors)\n",
    "ax.yaxis.set_major_formatter(mtick.PercentFormatter())\n",
    "ax.legend(loc='best',prop={'size':12},title = 'Churn')\n",
    "ax.set_ylabel('% Customers')\n",
    "ax.set_title('Churn by Contract Type')\n",
    "\n",
    "# Code to add the data labels on the stacked bar chart\n",
    "for p in ax.patches:\n",
    "    width, height = p.get_width(), p.get_height()\n",
    "    x, y = p.get_xy() \n",
    "    ax.annotate('{:.0f}%'.format(height), (p.get_x()+.25*width, p.get_y()+.4*height),\n",
    "                color = 'white',\n",
    "               weight = 'bold')"
   ]
  },
  {
   "cell_type": "markdown",
   "metadata": {
    "_uuid": "d2975c96bb5c2ea1bcdf8c718aef1f3e8226a64c"
   },
   "source": [
    "**iii.) Churn by Seniority**: Senior Citizens have almost double the churn rate than younger population."
   ]
  },
  {
   "cell_type": "code",
   "execution_count": 22,
   "metadata": {
    "_uuid": "169bc4d753a4bb1368ffe02768481e35366d75e1",
    "collapsed": true
   },
   "outputs": [
    {
     "data": {
      "image/png": "[encoded data removed]",
      "text/plain": [
       "<Figure size 576x432 with 1 Axes>"
      ]
     },
     "metadata": {},
     "output_type": "display_data"
    }
   ],
   "source": [
    "colors = ['#4D3425','#E4512B']\n",
    "seniority_churn = telecom_cust.groupby(['SeniorCitizen','Churn']).size().unstack()\n",
    "\n",
    "ax = (seniority_churn.T*100.0 / seniority_churn.T.sum()).T.plot(kind='bar',\n",
    "                                                                width = 0.2,\n",
    "                                                                stacked = True,\n",
    "                                                                rot = 0, \n",
    "                                                                figsize = (8,6),\n",
    "                                                                color = colors)\n",
    "ax.yaxis.set_major_formatter(mtick.PercentFormatter())\n",
    "ax.legend(loc='center',prop={'size':12},title = 'Churn')\n",
    "ax.set_ylabel('% Customers')\n",
    "ax.set_title('Churn by Seniority Level')\n",
    "\n",
    "# Code to add the data labels on the stacked bar chart\n",
    "for p in ax.patches:\n",
    "    width, height = p.get_width(), p.get_height()\n",
    "    x, y = p.get_xy() \n",
    "    ax.annotate('{:.0f}%'.format(height), (p.get_x()+.25*width, p.get_y()+.4*height),\n",
    "                color = 'white',\n",
    "               weight = 'bold')"
   ]
  },
  {
   "cell_type": "markdown",
   "metadata": {
    "_uuid": "bd0851a067af76d101f72fc4eb2f95bea547eda3"
   },
   "source": [
    "**iv.) Churn by Monthly Charges**: Higher % of customers churn when the monthly charges are high."
   ]
  },
  {
   "cell_type": "code",
   "execution_count": 23,
   "metadata": {
    "_uuid": "fa0b5fc6c8ee5f284c0f8515c297d6765cc2b807",
    "collapsed": true
   },
   "outputs": [
    {
     "data": {
      "text/plain": [
       "Text(0.5,1,'Distribution of monthly charges by churn')"
      ]
     },
     "execution_count": 23,
     "metadata": {},
     "output_type": "execute_result"
    },
    {
     "data": {
      "image/png": "[encoded data removed]",
      "text/plain": [
       "<Figure size 432x288 with 1 Axes>"
      ]
     },
     "metadata": {},
     "output_type": "display_data"
    }
   ],
   "source": [
    "ax = sns.kdeplot(telecom_cust.MonthlyCharges[(telecom_cust[\"Churn\"] == 'No') ],\n",
    "                color=\"Red\", shade = True)\n",
    "ax = sns.kdeplot(telecom_cust.MonthlyCharges[(telecom_cust[\"Churn\"] == 'Yes') ],\n",
    "                ax =ax, color=\"Blue\", shade= True)\n",
    "ax.legend([\"Not Churn\",\"Churn\"],loc='upper right')\n",
    "ax.set_ylabel('Density')\n",
    "ax.set_xlabel('Monthly Charges')\n",
    "ax.set_title('Distribution of monthly charges by churn')"
   ]
  },
  {
   "cell_type": "markdown",
   "metadata": {
    "_uuid": "f6cc05bc4205538c60a69ad00ce742118a21786d"
   },
   "source": [
    "**v.) Churn by Total Charges**: It seems that there is higer churn when the total charges are lower."
   ]
  },
  {
   "cell_type": "code",
   "execution_count": 24,
   "metadata": {
    "_uuid": "73b499447ad1d100aae396cb5b7d16533f153219",
    "collapsed": true
   },
   "outputs": [
    {
     "data": {
      "text/plain": [
       "Text(0.5,1,'Distribution of total charges by churn')"
      ]
     },
     "execution_count": 24,
     "metadata": {},
     "output_type": "execute_result"
    },
    {
     "data": {
      "image/png": "[encoded data removed]",
      "text/plain": [
       "<Figure size 432x288 with 1 Axes>"
      ]
     },
     "metadata": {},
     "output_type": "display_data"
    }
   ],
   "source": [
    "ax = sns.kdeplot(telecom_cust.TotalCharges[(telecom_cust[\"Churn\"] == 'No') ],\n",
    "                color=\"Red\", shade = True)\n",
    "ax = sns.kdeplot(telecom_cust.TotalCharges[(telecom_cust[\"Churn\"] == 'Yes') ],\n",
    "                ax =ax, color=\"Blue\", shade= True)\n",
    "ax.legend([\"Not Churn\",\"Churn\"],loc='upper right')\n",
    "ax.set_ylabel('Density')\n",
    "ax.set_xlabel('Total Charges')\n",
    "ax.set_title('Distribution of total charges by churn')"
   ]
  },
  {
   "cell_type": "markdown",
   "metadata": {
    "_uuid": "a253e14489981fb89ac3a36849432549f442695d"
   },
   "source": [
    "## After going through the above EDA we will develop some predictive models and compare them."
   ]
  },
  {
   "cell_type": "markdown",
   "metadata": {},
   "source": [
    "### Scaling the data"
   ]
  },
  {
   "cell_type": "code",
   "execution_count": 25,
   "metadata": {
    "_uuid": "7d13d788abc4ee9268338ad0539e6f8098ae9fd4"
   },
   "outputs": [
    {
     "name": "stderr",
     "output_type": "stream",
     "text": [
      "C:\\Users\\bandi\\Anaconda3\\lib\\site-packages\\sklearn\\preprocessing\\data.py:323: DataConversionWarning: Data with input dtype uint8, int64, float64 were all converted to float64 by MinMaxScaler.\n",
      "  return self.partial_fit(X, y)\n"
     ]
    }
   ],
   "source": [
    "# We will use the data frame where we had created dummy variables\n",
    "y = df_dummies['Churn'].values\n",
    "X = df_dummies.drop(columns = ['Churn'])\n",
    "\n",
    "# Scaling all the variables to a range of 0 to 1\n",
    "from sklearn.preprocessing import MinMaxScaler\n",
    "features = X.columns.values\n",
    "scaler = MinMaxScaler(feature_range = (0,1))\n",
    "scaler.fit(X)\n",
    "X = pd.DataFrame(scaler.transform(X))\n",
    "X.columns = features"
   ]
  },
  {
   "cell_type": "markdown",
   "metadata": {
    "_uuid": "84cd7e26d0c3e46555b53fadefd203b4adaa0da9"
   },
   "source": [
    "It is important to scale the variables in logistic regression so that all of them are within a range of 0 to 1. This helped me improve the accuracy from 79.7% to 80.7%. Further, you will notice below that the importance of variables is also aligned with what we are seeing in Random Forest algorithm and the EDA we conducted above."
   ]
  },
  {
   "cell_type": "code",
   "execution_count": 26,
   "metadata": {
    "_uuid": "32367729f8ea962bb73cae8b88b6310dd811b6de"
   },
   "outputs": [],
   "source": [
    "# Create Train & Test Data\n",
    "from sklearn.model_selection import train_test_split\n",
    "X_train, X_test, y_train, y_test = train_test_split(X, y, test_size=0.3, random_state=99)"
   ]
  },
  {
   "cell_type": "code",
   "execution_count": 56,
   "metadata": {},
   "outputs": [],
   "source": [
    "# # Code to oversample data using SMOTE to see if accuracy improves\n",
    "# from imblearn.over_sampling import SMOTE\n",
    "\n",
    "# sm = SMOTE(random_state=2)\n",
    "# X_train_res, y_train_res = sm.fit_sample(X_train, y_train.ravel())\n",
    "\n",
    "\n",
    "# print('After OverSampling, the shape of train_X: {}'.format(X_train_res.shape))\n",
    "# print('After OverSampling, the shape of train_y: {} \\n'.format(y_train_res.shape))\n",
    "\n",
    "# print(\"After OverSampling, counts of label '1': {}\".format(sum(y_train_res==1)))\n",
    "# print(\"After OverSampling, counts of label '0': {}\".format(sum(y_train_res==0)))"
   ]
  },
  {
   "cell_type": "markdown",
   "metadata": {},
   "source": [
    "**Getting the Accuracy, Confusion Matrix, ROC Curve, ROC-AUC score and TPR/FPR rate also called as Specificity & Sensitivity**\n",
    "\n",
    "1. **Accuracy** - It is calculated on the test data set\n",
    "2. **Confusion Matrix** - It tells us how many True Positive/True Negatives and False Positives/False Negatives are present in the prediction\n",
    "\n",
    "    a. TP: # of customers who will actually default also predicted as default\n",
    "    \n",
    "    b. TN: # of customers who won't actually default also predicted as no default\n",
    "    \n",
    "    c. FP: # of customers who won't actually default but predicted as default\n",
    "    \n",
    "    d. FN: # of customers who will actually default but predicted as no default\n",
    "    \n",
    "Note: It is important for a Telecom company to know more about the customers who are likely to default. Thus it is fine to have more False Positives (FP's), however we must have a lower # of FN, because this will predict more risky customers to be not that risky. This is important to keep in mind as we evaluate al the different classification models. We shoud choose the right threshold (even if it eans reducing the accuracy a bit to get better TPR).\n",
    "\n",
    "3. **ROC curve** - It is a plot between Sensitivity and 1-Specificity predictions for all the different thresholds \n",
    "\n",
    "4. **ROC-AUC score** - It is the area under the ROC curve. It helps us compare different models. Higher AUC implies a better model."
   ]
  },
  {
   "cell_type": "markdown",
   "metadata": {},
   "source": [
    "### Below is the function to print acuracy score, ROC curvey, ROC-AUC score and confusion matrix"
   ]
  },
  {
   "cell_type": "code",
   "execution_count": 102,
   "metadata": {},
   "outputs": [],
   "source": [
    "def telecom_churn_prediction(algorithm,training_x,testing_x,\n",
    "                             training_y,testing_y,cf,threshold_plot) :\n",
    "    \n",
    "    #model\n",
    "    algorithm.fit(training_x,training_y)\n",
    "    predictions   = algorithm.predict(testing_x)\n",
    "    probabilities = algorithm.predict_proba(testing_x)\n",
    "    \n",
    "    \n",
    "    \n",
    "    # To get the weights/importance of all the variables\n",
    "    weights = pd.DataFrame(algorithm.coef_[0],\n",
    "                 index=X.columns.values).reset_index()\n",
    "    weights.columns = ['features', 'coefficients']\n",
    "    weights = weights.sort_values(by='coefficients', ascending=False)\n",
    "    \n",
    "    print (algorithm)\n",
    "    print (\"\\n Classification report : \\n\",classification_report(testing_y,predictions))\n",
    "    print (\"Accuracy   Score : \",accuracy_score(testing_y,predictions))\n",
    "    \n",
    "    #confusion matrix\n",
    "    conf_matrix = confusion_matrix(testing_y,predictions)\n",
    "    \n",
    "    #roc_auc_score\n",
    "    model_roc_auc = roc_auc_score(testing_y,predictions) \n",
    "    print (\"Area under curve : \",model_roc_auc,\"\\n\")\n",
    "    fpr,tpr,thresholds = roc_curve(testing_y,probabilities[:,1])\n",
    "    \n",
    "    #plot confusion matrix\n",
    "    trace1 = go.Heatmap(z = conf_matrix ,\n",
    "                        x = [\"Not churn\",\"Churn\"],\n",
    "                        y = [\"Not churn\",\"Churn\"],\n",
    "                        showscale  = False,colorscale = \"Picnic\",\n",
    "                        name = \"matrix\")\n",
    "    \n",
    "    #plot roc curve\n",
    "    trace2 = go.Scatter(x = fpr,y = tpr,\n",
    "                        name = \"Roc : \" + str(model_roc_auc),\n",
    "                        line = dict(color = ('rgb(22, 96, 167)'),width = 2))\n",
    "    trace3 = go.Scatter(x = [0,1],y=[0,1],\n",
    "                        line = dict(color = ('rgb(205, 12, 24)'),width = 2,\n",
    "                        dash = 'dot'))\n",
    "    \n",
    "    #plot coeffs\n",
    "    trace4 = go.Bar(x = weights[\"features\"],y = weights[\"coefficients\"],\n",
    "                    name = \"coefficients\",\n",
    "                    marker = dict(color = weights[\"coefficients\"],\n",
    "                                  colorscale = \"Picnic\",\n",
    "                                  line = dict(width = .6,color = \"black\")))\n",
    "    \n",
    "    #subplots\n",
    "    fig = tls.make_subplots(rows=2, cols=2, specs=[[{}, {}], [{'colspan': 2}, None]],\n",
    "                            subplot_titles=('Confusion Matrix',\n",
    "                                            'Receiver operating characteristic',\n",
    "                                            'Feature Importances'))\n",
    "    \n",
    "    fig.append_trace(trace1,1,1)\n",
    "    fig.append_trace(trace2,1,2)\n",
    "    fig.append_trace(trace3,1,2)\n",
    "    fig.append_trace(trace4,2,1)\n",
    "    \n",
    "    fig['layout'].update(showlegend=False, title=\"Model performance\" ,\n",
    "                         autosize = False,height = 900,width = 800,\n",
    "                         plot_bgcolor = 'rgba(240,240,240, 0.95)',\n",
    "                         paper_bgcolor = 'rgba(240,240,240, 0.95)',\n",
    "                         margin = dict(b = 195))\n",
    "    fig[\"layout\"][\"xaxis2\"].update(dict(title = \"false positive rate\"))\n",
    "    fig[\"layout\"][\"yaxis2\"].update(dict(title = \"true positive rate\"))\n",
    "    fig[\"layout\"][\"xaxis3\"].update(dict(showgrid = True,tickfont = dict(size = 10),\n",
    "                                        tickangle = 90))\n",
    "    py.iplot(fig)\n",
    "    \n",
    "    if threshold_plot == True : \n",
    "        visualizer = DiscriminationThreshold(algorithm)\n",
    "        visualizer.fit(training_x,training_y)\n",
    "        visualizer.poof()    "
   ]
  },
  {
   "cell_type": "markdown",
   "metadata": {
    "_uuid": "083086278a1073887b282a50a6399b1985224c1f"
   },
   "source": [
    "### 1. Logistic Regression"
   ]
  },
  {
   "cell_type": "markdown",
   "metadata": {},
   "source": [
    "Cross Validation"
   ]
  },
  {
   "cell_type": "code",
   "execution_count": 109,
   "metadata": {},
   "outputs": [
    {
     "name": "stdout",
     "output_type": "stream",
     "text": [
      "Fitting 5 folds for each of 10 candidates, totalling 50 fits\n"
     ]
    },
    {
     "name": "stderr",
     "output_type": "stream",
     "text": [
      "[Parallel(n_jobs=3)]: Using backend LokyBackend with 3 concurrent workers.\n",
      "[Parallel(n_jobs=3)]: Done  50 out of  50 | elapsed:    0.6s finished\n"
     ]
    },
    {
     "data": {
      "text/plain": [
       "GridSearchCV(cv=5, error_score='raise-deprecating',\n",
       "       estimator=LogisticRegression(C=1.0, class_weight=None, dual=False, fit_intercept=True,\n",
       "          intercept_scaling=1, max_iter=100, multi_class='warn',\n",
       "          n_jobs=None, penalty='l2', random_state=None, solver='warn',\n",
       "          tol=0.0001, verbose=0, warm_start=False),\n",
       "       fit_params=None, iid='warn', n_jobs=3,\n",
       "       param_grid={'C': array([ 1.,  2.,  3.,  4.,  5.,  6.,  7.,  8.,  9., 10.])},\n",
       "       pre_dispatch='2*n_jobs', refit=True, return_train_score='warn',\n",
       "       scoring=None, verbose=5)"
      ]
     },
     "execution_count": 109,
     "metadata": {},
     "output_type": "execute_result"
    }
   ],
   "source": [
    "from sklearn.linear_model import LogisticRegression\n",
    "parameters = {\n",
    "    'C': np.linspace(1, 10, 10)\n",
    "             }\n",
    "lr = LogisticRegression()\n",
    "clf = GridSearchCV(lr, parameters, cv=5, verbose=5, n_jobs=3)\n",
    "clf.fit(X_train, y_train)"
   ]
  },
  {
   "cell_type": "code",
   "execution_count": 110,
   "metadata": {},
   "outputs": [
    {
     "name": "stdout",
     "output_type": "stream",
     "text": [
      "Best Prameters are {'C': 4.0}\n"
     ]
    }
   ],
   "source": [
    "print ('Best Prameters are', clf.best_params_)"
   ]
  },
  {
   "cell_type": "markdown",
   "metadata": {},
   "source": [
    "Getting the results for the Logistic Regression Model"
   ]
  },
  {
   "cell_type": "code",
   "execution_count": 111,
   "metadata": {
    "collapsed": true
   },
   "outputs": [
    {
     "name": "stdout",
     "output_type": "stream",
     "text": [
      "[LibLinear]LogisticRegression(C=4.0, class_weight=None, dual=False, fit_intercept=True,\n",
      "          intercept_scaling=1, max_iter=100, multi_class='warn',\n",
      "          n_jobs=None, penalty='l1', random_state=None, solver='warn',\n",
      "          tol=0.0001, verbose=5, warm_start=False)\n",
      "\n",
      " Classification report : \n",
      "               precision    recall  f1-score   support\n",
      "\n",
      "           0       0.85      0.91      0.88      1578\n",
      "           1       0.67      0.54      0.60       532\n",
      "\n",
      "   micro avg       0.82      0.82      0.82      2110\n",
      "   macro avg       0.76      0.73      0.74      2110\n",
      "weighted avg       0.81      0.82      0.81      2110\n",
      "\n",
      "Accuracy   Score :  0.8180094786729858\n",
      "Area under curve :  0.7256937495830832 \n",
      "\n",
      "This is the format of your plot grid:\n",
      "[ (1,1) x1,y1 ]  [ (1,2) x2,y2 ]\n",
      "[ (2,1) x3,y3           -      ]\n",
      "\n"
     ]
    },
    {
     "data": {
      "application/vnd.plotly.v1+json": {
       "config": {
        "linkText": "Export to plot.ly",
        "plotlyServerURL": "https://plot.ly",
        "showLink": false
       },
       "data": [
        {
         "colorscale": "Picnic",
         "name": "matrix",
         "showscale": false,
         "type": "heatmap",
         "uid": "ad39f6ab-77ee-4755-8521-b2485194b6a0",
         "x": [
          "Not churn",
          "Churn"
         ],
         "xaxis": "x",
         "y": [
          "Not churn",
          "Churn"
         ],
         "yaxis": "y",
         "z": [
          [
           1439,
           139
          ],
          [
           245,
           287
          ]
         ]
        },
        {
         "line": {
          "color": "rgb(22, 96, 167)",
          "width": 2
         },
         "name": "Roc : 0.7256937495830832",
         "type": "scatter",
         "uid": "f809ff65-b37c-47dc-82ae-55bbd2f6be4f",
         "x": [
          0,
          0,
          0,
          0.0006337135614702154,
          0.0006337135614702154,
          0.0012674271229404308,
          0.0012674271229404308,
          0.0019011406844106464,
          0.0019011406844106464,
          0.0025348542458808617,
          0.0025348542458808617,
          0.0031685678073510772,
          0.0031685678073510772,
          0.004435994930291508,
          0.004435994930291508,
          0.005069708491761723,
          0.005069708491761723,
          0.0063371356147021544,
          0.0063371356147021544,
          0.00697084917617237,
          0.00697084917617237,
          0.0076045627376425855,
          0.0076045627376425855,
          0.008238276299112801,
          0.008238276299112801,
          0.009505703422053232,
          0.009505703422053232,
          0.010139416983523447,
          0.010139416983523447,
          0.010773130544993664,
          0.010773130544993664,
          0.012040557667934094,
          0.012040557667934094,
          0.012674271229404309,
          0.012674271229404309,
          0.013307984790874524,
          0.013307984790874524,
          0.01394169835234474,
          0.01394169835234474,
          0.01394169835234474,
          0.014575411913814956,
          0.014575411913814956,
          0.015209125475285171,
          0.015209125475285171,
          0.015842839036755388,
          0.015842839036755388,
          0.016476552598225603,
          0.016476552598225603,
          0.017743979721166033,
          0.017743979721166033,
          0.018377693282636248,
          0.018377693282636248,
          0.019011406844106463,
          0.019011406844106463,
          0.01964512040557668,
          0.01964512040557668,
          0.020278833967046894,
          0.020278833967046894,
          0.02091254752851711,
          0.02091254752851711,
          0.021546261089987327,
          0.021546261089987327,
          0.023447401774397972,
          0.023447401774397972,
          0.024081115335868188,
          0.024081115335868188,
          0.025348542458808618,
          0.025348542458808618,
          0.025982256020278833,
          0.025982256020278833,
          0.027249683143219267,
          0.027249683143219267,
          0.029150823827629912,
          0.029150823827629912,
          0.029784537389100127,
          0.029784537389100127,
          0.030418250950570342,
          0.030418250950570342,
          0.031051964512040557,
          0.031051964512040557,
          0.031685678073510776,
          0.031685678073510776,
          0.034220532319391636,
          0.034220532319391636,
          0.03485424588086185,
          0.03485424588086185,
          0.035487959442332066,
          0.035487959442332066,
          0.03612167300380228,
          0.03612167300380228,
          0.036755386565272496,
          0.036755386565272496,
          0.037389100126742715,
          0.037389100126742715,
          0.03802281368821293,
          0.03802281368821293,
          0.038656527249683145,
          0.038656527249683145,
          0.03929024081115336,
          0.03929024081115336,
          0.039923954372623575,
          0.039923954372623575,
          0.042458808618504436,
          0.042458808618504436,
          0.043726235741444866,
          0.043726235741444866,
          0.044993662864385296,
          0.044993662864385296,
          0.045627376425855515,
          0.045627376425855515,
          0.046261089987325726,
          0.046261089987325726,
          0.046894803548795945,
          0.046894803548795945,
          0.04752851711026616,
          0.04752851711026616,
          0.048162230671736375,
          0.048162230671736375,
          0.049429657794676805,
          0.049429657794676805,
          0.050697084917617236,
          0.050697084917617236,
          0.051330798479087454,
          0.051330798479087454,
          0.051964512040557666,
          0.051964512040557666,
          0.053865652724968315,
          0.053865652724968315,
          0.05449936628643853,
          0.05449936628643853,
          0.055133079847908745,
          0.055133079847908745,
          0.05576679340937896,
          0.05576679340937896,
          0.057034220532319393,
          0.057034220532319393,
          0.057667934093789605,
          0.057667934093789605,
          0.058301647655259824,
          0.058301647655259824,
          0.058935361216730035,
          0.058935361216730035,
          0.059569074778200254,
          0.059569074778200254,
          0.06273764258555133,
          0.06273764258555133,
          0.06337135614702155,
          0.06337135614702155,
          0.06527249683143219,
          0.06527249683143219,
          0.06653992395437262,
          0.06653992395437262,
          0.06844106463878327,
          0.06844106463878327,
          0.07160963244613434,
          0.07160963244613434,
          0.07287705956907478,
          0.07287705956907478,
          0.07477820025348543,
          0.07477820025348543,
          0.0779467680608365,
          0.0779467680608365,
          0.07858048162230671,
          0.07858048162230671,
          0.08238276299112801,
          0.08238276299112801,
          0.08301647655259822,
          0.08301647655259822,
          0.08491761723700887,
          0.08491761723700887,
          0.08555133079847908,
          0.08555133079847908,
          0.08618504435994931,
          0.08618504435994931,
          0.08681875792141952,
          0.08681875792141952,
          0.08808618504435994,
          0.08808618504435994,
          0.08871989860583017,
          0.08871989860583017,
          0.08998732572877059,
          0.08998732572877059,
          0.09062103929024082,
          0.09062103929024082,
          0.09125475285171103,
          0.09125475285171103,
          0.0944233206590621,
          0.0944233206590621,
          0.09632446134347275,
          0.09632446134347275,
          0.09695817490494296,
          0.09695817490494296,
          0.0982256020278834,
          0.0982256020278834,
          0.09949302915082382,
          0.09949302915082382,
          0.10012674271229405,
          0.10012674271229405,
          0.10076045627376426,
          0.10076045627376426,
          0.10139416983523447,
          0.10139416983523447,
          0.10266159695817491,
          0.10266159695817491,
          0.10392902408111533,
          0.10392902408111533,
          0.10456273764258556,
          0.10456273764258556,
          0.10583016476552598,
          0.10583016476552598,
          0.10646387832699619,
          0.10646387832699619,
          0.10709759188846642,
          0.10709759188846642,
          0.11153358681875793,
          0.11153358681875793,
          0.11216730038022814,
          0.11216730038022814,
          0.11343472750316856,
          0.11343472750316856,
          0.114702154626109,
          0.114702154626109,
          0.11533586818757921,
          0.11533586818757921,
          0.11596958174904944,
          0.11596958174904944,
          0.12103929024081116,
          0.12103929024081116,
          0.12610899873257286,
          0.12610899873257286,
          0.12737642585551331,
          0.12737642585551331,
          0.13307984790874525,
          0.13307984790874525,
          0.13434727503168567,
          0.13434727503168567,
          0.13624841571609633,
          0.13624841571609633,
          0.13751584283903676,
          0.13751584283903676,
          0.13814955640050697,
          0.13814955640050697,
          0.13878326996197718,
          0.13878326996197718,
          0.1394169835234474,
          0.1394169835234474,
          0.14068441064638784,
          0.14068441064638784,
          0.14131812420785805,
          0.14131812420785805,
          0.14258555133079848,
          0.14258555133079848,
          0.14575411913814956,
          0.14575411913814956,
          0.1476552598225602,
          0.1476552598225602,
          0.14955640050697086,
          0.14955640050697086,
          0.15399239543726237,
          0.15399239543726237,
          0.155893536121673,
          0.155893536121673,
          0.16476552598225602,
          0.16476552598225602,
          0.16666666666666666,
          0.16666666666666666,
          0.17110266159695817,
          0.17110266159695817,
          0.17363751584283904,
          0.17363751584283904,
          0.17870722433460076,
          0.17870722433460076,
          0.18124207858048164,
          0.18124207858048164,
          0.18377693282636248,
          0.18377693282636248,
          0.1844106463878327,
          0.1844106463878327,
          0.1888466413181242,
          0.1888466413181242,
          0.19074778200253487,
          0.19074778200253487,
          0.1920152091254753,
          0.1920152091254753,
          0.19391634980988592,
          0.19391634980988592,
          0.19455006337135614,
          0.19455006337135614,
          0.1958174904942966,
          0.1958174904942966,
          0.19771863117870722,
          0.19771863117870722,
          0.19961977186311788,
          0.19961977186311788,
          0.2002534854245881,
          0.2002534854245881,
          0.2008871989860583,
          0.2008871989860583,
          0.20722433460076045,
          0.20722433460076045,
          0.20849176172370087,
          0.20849176172370087,
          0.21039290240811154,
          0.21039290240811154,
          0.21102661596958175,
          0.21102661596958175,
          0.21166032953105196,
          0.21166032953105196,
          0.21292775665399238,
          0.21292775665399238,
          0.21673003802281368,
          0.21673003802281368,
          0.2173637515842839,
          0.2173637515842839,
          0.21799746514575413,
          0.21799746514575413,
          0.21989860583016477,
          0.21989860583016477,
          0.22053231939163498,
          0.22053231939163498,
          0.2211660329531052,
          0.2211660329531052,
          0.22306717363751585,
          0.22306717363751585,
          0.22813688212927757,
          0.22813688212927757,
          0.23067173637515842,
          0.23067173637515842,
          0.2338403041825095,
          0.2338403041825095,
          0.23447401774397972,
          0.23447401774397972,
          0.2414448669201521,
          0.2414448669201521,
          0.2420785804816223,
          0.2420785804816223,
          0.24524714828897337,
          0.24524714828897337,
          0.2458808618504436,
          0.2458808618504436,
          0.24651457541191382,
          0.24651457541191382,
          0.25918884664131814,
          0.25918884664131814,
          0.26045627376425856,
          0.26045627376425856,
          0.26108998732572875,
          0.26108998732572875,
          0.261723700887199,
          0.261723700887199,
          0.2629911280101394,
          0.2629911280101394,
          0.26362484157160965,
          0.26362484157160965,
          0.2674271229404309,
          0.2674271229404309,
          0.270595690747782,
          0.270595690747782,
          0.2718631178707224,
          0.2718631178707224,
          0.27249683143219267,
          0.27249683143219267,
          0.2782002534854246,
          0.2782002534854246,
          0.28073510773130544,
          0.28073510773130544,
          0.2826362484157161,
          0.2826362484157161,
          0.28517110266159695,
          0.28517110266159695,
          0.29340937896070973,
          0.29340937896070973,
          0.2984790874524715,
          0.2984790874524715,
          0.2991128010139417,
          0.2991128010139417,
          0.2997465145754119,
          0.2997465145754119,
          0.30481622306717365,
          0.30481622306717365,
          0.30798479087452474,
          0.30798479087452474,
          0.31242078580481625,
          0.31305449936628643,
          0.31749049429657794,
          0.31749049429657794,
          0.31875792141951836,
          0.31875792141951836,
          0.32509505703422054,
          0.32509505703422054,
          0.3288973384030418,
          0.3288973384030418,
          0.3333333333333333,
          0.3333333333333333,
          0.3377693282636248,
          0.3377693282636248,
          0.33903675538656525,
          0.33903675538656525,
          0.3396704689480355,
          0.3396704689480355,
          0.3403041825095057,
          0.3403041825095057,
          0.34600760456273766,
          0.34600760456273766,
          0.34664131812420784,
          0.34664131812420784,
          0.35107731305449935,
          0.35107731305449935,
          0.35424588086185044,
          0.35424588086185044,
          0.35868187579214195,
          0.35994930291508237,
          0.35994930291508237,
          0.3605830164765526,
          0.3605830164765526,
          0.3681875792141952,
          0.3681875792141952,
          0.3719898605830165,
          0.3719898605830165,
          0.37832699619771865,
          0.37832699619771865,
          0.38276299112801015,
          0.38276299112801015,
          0.38466413181242076,
          0.38466413181242076,
          0.38593155893536124,
          0.38593155893536124,
          0.39036755386565275,
          0.39036755386565275,
          0.3916349809885932,
          0.3916349809885932,
          0.3929024081115336,
          0.3929024081115336,
          0.39543726235741444,
          0.39543726235741444,
          0.3973384030418251,
          0.3973384030418251,
          0.40430925221799746,
          0.40430925221799746,
          0.4049429657794677,
          0.4049429657794677,
          0.4391634980988593,
          0.4391634980988593,
          0.43979721166032953,
          0.43979721166032953,
          0.44740177439797213,
          0.44740177439797213,
          0.4524714828897338,
          0.4524714828897338,
          0.4740177439797212,
          0.4740177439797212,
          0.47782002534854245,
          0.47782002534854245,
          0.4784537389100127,
          0.4784537389100127,
          0.49049429657794674,
          0.49049429657794674,
          0.4987325728770596,
          0.4987325728770596,
          0.5,
          0.5,
          0.5164765525982256,
          0.5164765525982256,
          0.5297845373891001,
          0.5297845373891001,
          0.532319391634981,
          0.532319391634981,
          0.5405576679340938,
          0.5405576679340938,
          0.5418250950570342,
          0.5418250950570342,
          0.5475285171102662,
          0.5475285171102662,
          0.5684410646387833,
          0.5684410646387833,
          0.5703422053231939,
          0.5703422053231939,
          0.5716096324461344,
          0.5716096324461344,
          0.5811153358681875,
          0.5811153358681875,
          0.5836501901140685,
          0.5836501901140685,
          0.5868187579214195,
          0.5868187579214195,
          0.5893536121673004,
          0.5893536121673004,
          0.5899873257287706,
          0.5899873257287706,
          0.5906210392902408,
          0.5906210392902408,
          0.5925221799746515,
          0.5925221799746515,
          0.5944233206590621,
          0.5944233206590621,
          0.5975918884664132,
          0.5975918884664132,
          0.6013941698352345,
          0.6013941698352345,
          0.6286438529784537,
          0.6286438529784537,
          0.629277566539924,
          0.629277566539924,
          0.638149556400507,
          0.638149556400507,
          0.6596958174904943,
          0.6596958174904943,
          0.6749049429657795,
          0.6749049429657795,
          0.6888466413181242,
          0.6888466413181242,
          0.6951837769328264,
          0.6951837769328264,
          0.7135614702154626,
          0.7135614702154626,
          0.7217997465145755,
          0.7217997465145755,
          0.7541191381495564,
          0.7541191381495564,
          0.7870722433460076,
          0.7870722433460076,
          0.7978453738910013,
          0.7978453738910013,
          0.8713561470215463,
          0.8713561470215463,
          1
         ],
         "xaxis": "x2",
         "y": [
          0,
          0.0018796992481203006,
          0.018796992481203006,
          0.018796992481203006,
          0.02631578947368421,
          0.02631578947368421,
          0.03195488721804511,
          0.03195488721804511,
          0.06578947368421052,
          0.06578947368421052,
          0.07142857142857142,
          0.07142857142857142,
          0.08270676691729323,
          0.08270676691729323,
          0.09586466165413533,
          0.09586466165413533,
          0.10526315789473684,
          0.10526315789473684,
          0.11842105263157894,
          0.11842105263157894,
          0.14097744360902256,
          0.14097744360902256,
          0.14285714285714285,
          0.14285714285714285,
          0.15037593984962405,
          0.15037593984962405,
          0.15413533834586465,
          0.15413533834586465,
          0.15977443609022557,
          0.15977443609022557,
          0.16541353383458646,
          0.16541353383458646,
          0.16729323308270677,
          0.16729323308270677,
          0.17293233082706766,
          0.17293233082706766,
          0.17857142857142858,
          0.17857142857142858,
          0.19924812030075187,
          0.20300751879699247,
          0.20300751879699247,
          0.21052631578947367,
          0.21052631578947367,
          0.212406015037594,
          0.212406015037594,
          0.22556390977443608,
          0.22556390977443608,
          0.2274436090225564,
          0.2274436090225564,
          0.23308270676691728,
          0.23308270676691728,
          0.2349624060150376,
          0.2349624060150376,
          0.24060150375939848,
          0.24060150375939848,
          0.25,
          0.25,
          0.2518796992481203,
          0.2518796992481203,
          0.2744360902255639,
          0.2744360902255639,
          0.2781954887218045,
          0.2781954887218045,
          0.2800751879699248,
          0.2800751879699248,
          0.2932330827067669,
          0.2932330827067669,
          0.3101503759398496,
          0.3101503759398496,
          0.3176691729323308,
          0.3176691729323308,
          0.31954887218045114,
          0.31954887218045114,
          0.32142857142857145,
          0.32142857142857145,
          0.32706766917293234,
          0.32706766917293234,
          0.33646616541353386,
          0.33646616541353386,
          0.3383458646616541,
          0.3383458646616541,
          0.3458646616541353,
          0.3458646616541353,
          0.3533834586466165,
          0.3533834586466165,
          0.3609022556390977,
          0.3609022556390977,
          0.37030075187969924,
          0.37030075187969924,
          0.37406015037593987,
          0.37406015037593987,
          0.37593984962406013,
          0.37593984962406013,
          0.37969924812030076,
          0.37969924812030076,
          0.3815789473684211,
          0.3815789473684211,
          0.38345864661654133,
          0.38345864661654133,
          0.38533834586466165,
          0.38533834586466165,
          0.3890977443609023,
          0.3890977443609023,
          0.39097744360902253,
          0.39097744360902253,
          0.39473684210526316,
          0.39473684210526316,
          0.39849624060150374,
          0.39849624060150374,
          0.40225563909774437,
          0.40225563909774437,
          0.40789473684210525,
          0.40789473684210525,
          0.4191729323308271,
          0.4191729323308271,
          0.42857142857142855,
          0.42857142857142855,
          0.43045112781954886,
          0.43045112781954886,
          0.4323308270676692,
          0.4323308270676692,
          0.43796992481203006,
          0.43796992481203006,
          0.4398496240601504,
          0.4398496240601504,
          0.44548872180451127,
          0.44548872180451127,
          0.4548872180451128,
          0.4548872180451128,
          0.45864661654135336,
          0.45864661654135336,
          0.4605263157894737,
          0.4605263157894737,
          0.4642857142857143,
          0.4642857142857143,
          0.4680451127819549,
          0.4680451127819549,
          0.4699248120300752,
          0.4699248120300752,
          0.4718045112781955,
          0.4718045112781955,
          0.4755639097744361,
          0.4755639097744361,
          0.4868421052631579,
          0.4868421052631579,
          0.4906015037593985,
          0.4906015037593985,
          0.4924812030075188,
          0.4924812030075188,
          0.49624060150375937,
          0.49624060150375937,
          0.4981203007518797,
          0.4981203007518797,
          0.5018796992481203,
          0.5018796992481203,
          0.5037593984962406,
          0.5037593984962406,
          0.5075187969924813,
          0.5075187969924813,
          0.5093984962406015,
          0.5093984962406015,
          0.5112781954887218,
          0.5112781954887218,
          0.5169172932330827,
          0.5169172932330827,
          0.518796992481203,
          0.518796992481203,
          0.5244360902255639,
          0.5244360902255639,
          0.5263157894736842,
          0.5263157894736842,
          0.5319548872180451,
          0.5319548872180451,
          0.5338345864661654,
          0.5338345864661654,
          0.5357142857142857,
          0.5357142857142857,
          0.5394736842105263,
          0.5394736842105263,
          0.5413533834586466,
          0.5413533834586466,
          0.5488721804511278,
          0.5488721804511278,
          0.5601503759398496,
          0.5601503759398496,
          0.5657894736842105,
          0.5657894736842105,
          0.5770676691729323,
          0.5770676691729323,
          0.5789473684210527,
          0.5789473684210527,
          0.5808270676691729,
          0.5808270676691729,
          0.5864661654135338,
          0.5864661654135338,
          0.5921052631578947,
          0.5921052631578947,
          0.5958646616541353,
          0.5958646616541353,
          0.599624060150376,
          0.599624060150376,
          0.6015037593984962,
          0.6015037593984962,
          0.6033834586466166,
          0.6033834586466166,
          0.6071428571428571,
          0.6071428571428571,
          0.6090225563909775,
          0.6090225563909775,
          0.6109022556390977,
          0.6109022556390977,
          0.6165413533834586,
          0.6165413533834586,
          0.618421052631579,
          0.618421052631579,
          0.6203007518796992,
          0.6203007518796992,
          0.6221804511278195,
          0.6221804511278195,
          0.6240601503759399,
          0.6240601503759399,
          0.6259398496240601,
          0.6259398496240601,
          0.6278195488721805,
          0.6278195488721805,
          0.631578947368421,
          0.631578947368421,
          0.6353383458646616,
          0.6353383458646616,
          0.6372180451127819,
          0.6372180451127819,
          0.6428571428571429,
          0.6428571428571429,
          0.6447368421052632,
          0.6447368421052632,
          0.6484962406015038,
          0.6484962406015038,
          0.6522556390977443,
          0.6522556390977443,
          0.6560150375939849,
          0.6560150375939849,
          0.6578947368421053,
          0.6578947368421053,
          0.6597744360902256,
          0.6597744360902256,
          0.6635338345864662,
          0.6635338345864662,
          0.6654135338345865,
          0.6654135338345865,
          0.6691729323308271,
          0.6691729323308271,
          0.6710526315789473,
          0.6710526315789473,
          0.6766917293233082,
          0.6766917293233082,
          0.6804511278195489,
          0.6804511278195489,
          0.6823308270676691,
          0.6823308270676691,
          0.6842105263157895,
          0.6842105263157895,
          0.6860902255639098,
          0.6860902255639098,
          0.6898496240601504,
          0.6898496240601504,
          0.6917293233082706,
          0.6917293233082706,
          0.693609022556391,
          0.693609022556391,
          0.6954887218045113,
          0.6954887218045113,
          0.6973684210526315,
          0.6973684210526315,
          0.7011278195488722,
          0.7011278195488722,
          0.7030075187969925,
          0.7030075187969925,
          0.7048872180451128,
          0.7048872180451128,
          0.7086466165413534,
          0.7086466165413534,
          0.7105263157894737,
          0.7105263157894737,
          0.7180451127819549,
          0.7180451127819549,
          0.7199248120300752,
          0.7199248120300752,
          0.7236842105263158,
          0.7236842105263158,
          0.7255639097744361,
          0.7255639097744361,
          0.7293233082706767,
          0.7293233082706767,
          0.7349624060150376,
          0.7349624060150376,
          0.7387218045112782,
          0.7387218045112782,
          0.7406015037593985,
          0.7406015037593985,
          0.7462406015037594,
          0.7462406015037594,
          0.7481203007518797,
          0.7481203007518797,
          0.75,
          0.75,
          0.7518796992481203,
          0.7518796992481203,
          0.7556390977443609,
          0.7556390977443609,
          0.7575187969924813,
          0.7575187969924813,
          0.7593984962406015,
          0.7593984962406015,
          0.7612781954887218,
          0.7612781954887218,
          0.7631578947368421,
          0.7631578947368421,
          0.7669172932330827,
          0.7669172932330827,
          0.768796992481203,
          0.768796992481203,
          0.7706766917293233,
          0.7706766917293233,
          0.7725563909774437,
          0.7725563909774437,
          0.7744360902255639,
          0.7744360902255639,
          0.7781954887218046,
          0.7781954887218046,
          0.7800751879699248,
          0.7800751879699248,
          0.7857142857142857,
          0.7857142857142857,
          0.7875939849624061,
          0.7875939849624061,
          0.7894736842105263,
          0.7894736842105263,
          0.7951127819548872,
          0.7951127819548872,
          0.8007518796992481,
          0.8007518796992481,
          0.8026315789473685,
          0.8026315789473685,
          0.806390977443609,
          0.806390977443609,
          0.8082706766917294,
          0.8082706766917294,
          0.8101503759398496,
          0.8101503759398496,
          0.8120300751879699,
          0.8120300751879699,
          0.8139097744360902,
          0.8139097744360902,
          0.8157894736842105,
          0.8157894736842105,
          0.8176691729323309,
          0.8176691729323309,
          0.8214285714285714,
          0.8214285714285714,
          0.8233082706766918,
          0.8233082706766918,
          0.8270676691729323,
          0.8270676691729323,
          0.8289473684210527,
          0.8289473684210527,
          0.8308270676691729,
          0.8308270676691729,
          0.8327067669172933,
          0.8327067669172933,
          0.8345864661654135,
          0.8345864661654135,
          0.8364661654135338,
          0.8364661654135338,
          0.8383458646616542,
          0.8383458646616542,
          0.8402255639097744,
          0.8402255639097744,
          0.8421052631578947,
          0.8421052631578947,
          0.8477443609022557,
          0.8477443609022557,
          0.849624060150376,
          0.849624060150376,
          0.8515037593984962,
          0.8515037593984962,
          0.8552631578947368,
          0.8552631578947368,
          0.8590225563909775,
          0.8590225563909775,
          0.8609022556390977,
          0.8609022556390977,
          0.8627819548872181,
          0.8627819548872181,
          0.8646616541353384,
          0.8646616541353384,
          0.8665413533834586,
          0.8665413533834586,
          0.868421052631579,
          0.868421052631579,
          0.8703007518796992,
          0.8703007518796992,
          0.8721804511278195,
          0.8721804511278195,
          0.8740601503759399,
          0.8740601503759399,
          0.8759398496240601,
          0.8759398496240601,
          0.8778195488721805,
          0.8778195488721805,
          0.8796992481203008,
          0.8796992481203008,
          0.8796992481203008,
          0.881578947368421,
          0.881578947368421,
          0.8834586466165414,
          0.8834586466165414,
          0.8853383458646616,
          0.8853383458646616,
          0.8872180451127819,
          0.8872180451127819,
          0.8890977443609023,
          0.8890977443609023,
          0.8909774436090225,
          0.8909774436090225,
          0.8928571428571429,
          0.8928571428571429,
          0.8947368421052632,
          0.8947368421052632,
          0.8966165413533834,
          0.8966165413533834,
          0.900375939849624,
          0.900375939849624,
          0.9022556390977443,
          0.9022556390977443,
          0.9060150375939849,
          0.9060150375939849,
          0.9078947368421053,
          0.9078947368421053,
          0.9097744360902256,
          0.9097744360902256,
          0.9116541353383458,
          0.9116541353383458,
          0.9154135338345865,
          0.9154135338345865,
          0.9191729323308271,
          0.9191729323308271,
          0.9210526315789473,
          0.9210526315789473,
          0.9229323308270677,
          0.9229323308270677,
          0.924812030075188,
          0.924812030075188,
          0.9266917293233082,
          0.9266917293233082,
          0.9285714285714286,
          0.9285714285714286,
          0.9304511278195489,
          0.9304511278195489,
          0.9342105263157895,
          0.9342105263157895,
          0.9360902255639098,
          0.9360902255639098,
          0.9379699248120301,
          0.9379699248120301,
          0.9398496240601504,
          0.9398496240601504,
          0.9417293233082706,
          0.9417293233082706,
          0.943609022556391,
          0.943609022556391,
          0.9454887218045113,
          0.9454887218045113,
          0.9473684210526315,
          0.9473684210526315,
          0.9492481203007519,
          0.9492481203007519,
          0.9511278195488722,
          0.9511278195488722,
          0.9548872180451128,
          0.9548872180451128,
          0.956766917293233,
          0.956766917293233,
          0.9605263157894737,
          0.9605263157894737,
          0.9624060150375939,
          0.9624060150375939,
          0.9642857142857143,
          0.9642857142857143,
          0.9661654135338346,
          0.9661654135338346,
          0.9680451127819549,
          0.9680451127819549,
          0.9699248120300752,
          0.9699248120300752,
          0.9718045112781954,
          0.9718045112781954,
          0.9736842105263158,
          0.9736842105263158,
          0.9755639097744361,
          0.9755639097744361,
          0.9774436090225563,
          0.9774436090225563,
          0.9793233082706767,
          0.9793233082706767,
          0.981203007518797,
          0.981203007518797,
          0.9830827067669173,
          0.9830827067669173,
          0.9849624060150376,
          0.9849624060150376,
          0.9868421052631579,
          0.9868421052631579,
          0.9887218045112782,
          0.9887218045112782,
          0.9906015037593985,
          0.9906015037593985,
          0.9924812030075187,
          0.9924812030075187,
          0.9943609022556391,
          0.9943609022556391,
          0.9962406015037594,
          0.9962406015037594,
          0.9981203007518797,
          0.9981203007518797,
          1,
          1
         ],
         "yaxis": "y2"
        },
        {
         "line": {
          "color": "rgb(205, 12, 24)",
          "dash": "dot",
          "width": 2
         },
         "type": "scatter",
         "uid": "a0711d9b-80ef-44d8-9479-66343a81670e",
         "x": [
          0,
          1
         ],
         "xaxis": "x2",
         "y": [
          0,
          1
         ],
         "yaxis": "y2"
        },
        {
         "marker": {
          "color": [
           2.1825042176934177,
           0.6204068242906252,
           0.3490516719008368,
           0.304879369057637,
           0.20263485783741184,
           0.18714182637637405,
           0.13797908892839605,
           0.13746831416601762,
           0.1283636862651213,
           0.014109535974610139,
           3.037556947089319e-07,
           0,
           0,
           0,
           0,
           0,
           0,
           0,
           0,
           0,
           0,
           -1.767234176504939e-05,
           -0.000153062272274858,
           -0.00017518751321177076,
           -0.004472494511481036,
           -0.027782633401467315,
           -0.02892304019928574,
           -0.040112779622169144,
           -0.042623816550058986,
           -0.04958738722469012,
           -0.06359900664108947,
           -0.10487373089353913,
           -0.12065581084776766,
           -0.15095328646897965,
           -0.15919640028357315,
           -0.17443229881607686,
           -0.19130482243693844,
           -0.19574110825167224,
           -0.22215754822622574,
           -0.2632390937578888,
           -0.3128667104302519,
           -0.6524634784421445,
           -0.7101064664126996,
           -0.8852419218877726,
           -3.59199056968887
          ],
          "colorscale": "Picnic",
          "line": {
           "color": "black",
           "width": 0.6
          }
         },
         "name": "coefficients",
         "type": "bar",
         "uid": "a95ba144-8dfe-4178-bfb6-516588bcbc34",
         "x": [
          "TotalCharges",
          "Contract_Month-to-month",
          "PaymentMethod_Electronic check",
          "TechSupport_No",
          "OnlineSecurity_No",
          "SeniorCitizen",
          "OnlineBackup_No",
          "InternetService_Fiber optic",
          "PhoneService_No",
          "StreamingTV_Yes",
          "DeviceProtection_No",
          "PaymentMethod_Bank transfer (automatic)",
          "PaperlessBilling_Yes",
          "StreamingMovies_Yes",
          "OnlineBackup_No internet service",
          "Dependents_No",
          "MultipleLines_No phone service",
          "MonthlyCharges",
          "MultipleLines_Yes",
          "Partner_No",
          "gender_Female",
          "StreamingMovies_No internet service",
          "OnlineBackup_Yes",
          "Contract_One year",
          "Partner_Yes",
          "PaymentMethod_Mailed check",
          "InternetService_No",
          "StreamingTV_No internet service",
          "DeviceProtection_No internet service",
          "DeviceProtection_Yes",
          "TechSupport_Yes",
          "PaymentMethod_Credit card (automatic)",
          "StreamingMovies_No",
          "OnlineSecurity_Yes",
          "gender_Male",
          "StreamingTV_No",
          "TechSupport_No internet service",
          "Dependents_Yes",
          "MultipleLines_No",
          "PhoneService_Yes",
          "PaperlessBilling_No",
          "InternetService_DSL",
          "OnlineSecurity_No internet service",
          "Contract_Two year",
          "tenure"
         ],
         "xaxis": "x3",
         "y": [
          2.1825042176934177,
          0.6204068242906252,
          0.3490516719008368,
          0.304879369057637,
          0.20263485783741184,
          0.18714182637637405,
          0.13797908892839605,
          0.13746831416601762,
          0.1283636862651213,
          0.014109535974610139,
          3.037556947089319e-07,
          0,
          0,
          0,
          0,
          0,
          0,
          0,
          0,
          0,
          0,
          -1.767234176504939e-05,
          -0.000153062272274858,
          -0.00017518751321177076,
          -0.004472494511481036,
          -0.027782633401467315,
          -0.02892304019928574,
          -0.040112779622169144,
          -0.042623816550058986,
          -0.04958738722469012,
          -0.06359900664108947,
          -0.10487373089353913,
          -0.12065581084776766,
          -0.15095328646897965,
          -0.15919640028357315,
          -0.17443229881607686,
          -0.19130482243693844,
          -0.19574110825167224,
          -0.22215754822622574,
          -0.2632390937578888,
          -0.3128667104302519,
          -0.6524634784421445,
          -0.7101064664126996,
          -0.8852419218877726,
          -3.59199056968887
         ],
         "yaxis": "y3"
        }
       ],
       "layout": {
        "annotations": [
         {
          "font": {
           "size": 16
          },
          "showarrow": false,
          "text": "Confusion Matrix",
          "x": 0.225,
          "xanchor": "center",
          "xref": "paper",
          "y": 1,
          "yanchor": "bottom",
          "yref": "paper"
         },
         {
          "font": {
           "size": 16
          },
          "showarrow": false,
          "text": "Receiver operating characteristic",
          "x": 0.775,
          "xanchor": "center",
          "xref": "paper",
          "y": 1,
          "yanchor": "bottom",
          "yref": "paper"
         },
         {
          "font": {
           "size": 16
          },
          "showarrow": false,
          "text": "Feature Importances",
          "x": 0.5,
          "xanchor": "center",
          "xref": "paper",
          "y": 0.375,
          "yanchor": "bottom",
          "yref": "paper"
         }
        ],
        "autosize": false,
        "height": 900,
        "margin": {
         "b": 195
        },
        "paper_bgcolor": "rgba(240,240,240, 0.95)",
        "plot_bgcolor": "rgba(240,240,240, 0.95)",
        "showlegend": false,
        "title": {
         "text": "Model performance"
        },
        "width": 800,
        "xaxis": {
         "anchor": "y",
         "domain": [
          0,
          0.45
         ]
        },
        "xaxis2": {
         "anchor": "y2",
         "domain": [
          0.55,
          1
         ],
         "title": {
          "text": "false positive rate"
         }
        },
        "xaxis3": {
         "anchor": "y3",
         "domain": [
          0,
          1
         ],
         "showgrid": true,
         "tickangle": 90,
         "tickfont": {
          "size": 10
         }
        },
        "yaxis": {
         "anchor": "x",
         "domain": [
          0.625,
          1
         ]
        },
        "yaxis2": {
         "anchor": "x2",
         "domain": [
          0.625,
          1
         ],
         "title": {
          "text": "true positive rate"
         }
        },
        "yaxis3": {
         "anchor": "x3",
         "domain": [
          0,
          0.375
         ]
        }
       }
      },
      "text/html": [
       "<div id=\"5f9663e6-54bd-4999-b75a-86a665f31843\" style=\"height: 900px; width: 800px;\" class=\"plotly-graph-div\"></div><script type=\"text/javascript\">require([\"plotly\"], function(Plotly) { window.PLOTLYENV=window.PLOTLYENV || {};window.PLOTLYENV.BASE_URL=\"https://plot.ly\";Plotly.newPlot(\"5f9663e6-54bd-4999-b75a-86a665f31843\", [{\"colorscale\": \"Picnic\", \"name\": \"matrix\", \"showscale\": false, \"x\": [\"Not churn\", \"Churn\"], \"y\": [\"Not churn\", \"Churn\"], \"z\": [[1439, 139], [245, 287]], \"type\": \"heatmap\", \"uid\": \"ad39f6ab-77ee-4755-8521-b2485194b6a0\", \"xaxis\": \"x\", \"yaxis\": \"y\"}, {\"line\": {\"color\": \"rgb(22, 96, 167)\", \"width\": 2}, \"name\": \"Roc : 0.7256937495830832\", \"x\": [0.0, 0.0, 0.0, 0.0006337135614702154, 0.0006337135614702154, 0.0012674271229404308, 0.0012674271229404308, 0.0019011406844106464, 0.0019011406844106464, 0.0025348542458808617, 0.0025348542458808617, 0.0031685678073510772, 0.0031685678073510772, 0.004435994930291508, 0.004435994930291508, 0.005069708491761723, 0.005069708491761723, 0.0063371356147021544, 0.0063371356147021544, 0.00697084917617237, 0.00697084917617237, 0.0076045627376425855, 0.0076045627376425855, 0.008238276299112801, 0.008238276299112801, 0.009505703422053232, 0.009505703422053232, 0.010139416983523447, 0.010139416983523447, 0.010773130544993664, 0.010773130544993664, 0.012040557667934094, 0.012040557667934094, 0.012674271229404309, 0.012674271229404309, 0.013307984790874524, 0.013307984790874524, 0.01394169835234474, 0.01394169835234474, 0.01394169835234474, 0.014575411913814956, 0.014575411913814956, 0.015209125475285171, 0.015209125475285171, 0.015842839036755388, 0.015842839036755388, 0.016476552598225603, 0.016476552598225603, 0.017743979721166033, 0.017743979721166033, 0.018377693282636248, 0.018377693282636248, 0.019011406844106463, 0.019011406844106463, 0.01964512040557668, 0.01964512040557668, 0.020278833967046894, 0.020278833967046894, 0.02091254752851711, 0.02091254752851711, 0.021546261089987327, 0.021546261089987327, 0.023447401774397972, 0.023447401774397972, 0.024081115335868188, 0.024081115335868188, 0.025348542458808618, 0.025348542458808618, 0.025982256020278833, 0.025982256020278833, 0.027249683143219267, 0.027249683143219267, 0.029150823827629912, 0.029150823827629912, 0.029784537389100127, 0.029784537389100127, 0.030418250950570342, 0.030418250950570342, 0.031051964512040557, 0.031051964512040557, 0.031685678073510776, 0.031685678073510776, 0.034220532319391636, 0.034220532319391636, 0.03485424588086185, 0.03485424588086185, 0.035487959442332066, 0.035487959442332066, 0.03612167300380228, 0.03612167300380228, 0.036755386565272496, 0.036755386565272496, 0.037389100126742715, 0.037389100126742715, 0.03802281368821293, 0.03802281368821293, 0.038656527249683145, 0.038656527249683145, 0.03929024081115336, 0.03929024081115336, 0.039923954372623575, 0.039923954372623575, 0.042458808618504436, 0.042458808618504436, 0.043726235741444866, 0.043726235741444866, 0.044993662864385296, 0.044993662864385296, 0.045627376425855515, 0.045627376425855515, 0.046261089987325726, 0.046261089987325726, 0.046894803548795945, 0.046894803548795945, 0.04752851711026616, 0.04752851711026616, 0.048162230671736375, 0.048162230671736375, 0.049429657794676805, 0.049429657794676805, 0.050697084917617236, 0.050697084917617236, 0.051330798479087454, 0.051330798479087454, 0.051964512040557666, 0.051964512040557666, 0.053865652724968315, 0.053865652724968315, 0.05449936628643853, 0.05449936628643853, 0.055133079847908745, 0.055133079847908745, 0.05576679340937896, 0.05576679340937896, 0.057034220532319393, 0.057034220532319393, 0.057667934093789605, 0.057667934093789605, 0.058301647655259824, 0.058301647655259824, 0.058935361216730035, 0.058935361216730035, 0.059569074778200254, 0.059569074778200254, 0.06273764258555133, 0.06273764258555133, 0.06337135614702155, 0.06337135614702155, 0.06527249683143219, 0.06527249683143219, 0.06653992395437262, 0.06653992395437262, 0.06844106463878327, 0.06844106463878327, 0.07160963244613434, 0.07160963244613434, 0.07287705956907478, 0.07287705956907478, 0.07477820025348543, 0.07477820025348543, 0.0779467680608365, 0.0779467680608365, 0.07858048162230671, 0.07858048162230671, 0.08238276299112801, 0.08238276299112801, 0.08301647655259822, 0.08301647655259822, 0.08491761723700887, 0.08491761723700887, 0.08555133079847908, 0.08555133079847908, 0.08618504435994931, 0.08618504435994931, 0.08681875792141952, 0.08681875792141952, 0.08808618504435994, 0.08808618504435994, 0.08871989860583017, 0.08871989860583017, 0.08998732572877059, 0.08998732572877059, 0.09062103929024082, 0.09062103929024082, 0.09125475285171103, 0.09125475285171103, 0.0944233206590621, 0.0944233206590621, 0.09632446134347275, 0.09632446134347275, 0.09695817490494296, 0.09695817490494296, 0.0982256020278834, 0.0982256020278834, 0.09949302915082382, 0.09949302915082382, 0.10012674271229405, 0.10012674271229405, 0.10076045627376426, 0.10076045627376426, 0.10139416983523447, 0.10139416983523447, 0.10266159695817491, 0.10266159695817491, 0.10392902408111533, 0.10392902408111533, 0.10456273764258556, 0.10456273764258556, 0.10583016476552598, 0.10583016476552598, 0.10646387832699619, 0.10646387832699619, 0.10709759188846642, 0.10709759188846642, 0.11153358681875793, 0.11153358681875793, 0.11216730038022814, 0.11216730038022814, 0.11343472750316856, 0.11343472750316856, 0.114702154626109, 0.114702154626109, 0.11533586818757921, 0.11533586818757921, 0.11596958174904944, 0.11596958174904944, 0.12103929024081116, 0.12103929024081116, 0.12610899873257286, 0.12610899873257286, 0.12737642585551331, 0.12737642585551331, 0.13307984790874525, 0.13307984790874525, 0.13434727503168567, 0.13434727503168567, 0.13624841571609633, 0.13624841571609633, 0.13751584283903676, 0.13751584283903676, 0.13814955640050697, 0.13814955640050697, 0.13878326996197718, 0.13878326996197718, 0.1394169835234474, 0.1394169835234474, 0.14068441064638784, 0.14068441064638784, 0.14131812420785805, 0.14131812420785805, 0.14258555133079848, 0.14258555133079848, 0.14575411913814956, 0.14575411913814956, 0.1476552598225602, 0.1476552598225602, 0.14955640050697086, 0.14955640050697086, 0.15399239543726237, 0.15399239543726237, 0.155893536121673, 0.155893536121673, 0.16476552598225602, 0.16476552598225602, 0.16666666666666666, 0.16666666666666666, 0.17110266159695817, 0.17110266159695817, 0.17363751584283904, 0.17363751584283904, 0.17870722433460076, 0.17870722433460076, 0.18124207858048164, 0.18124207858048164, 0.18377693282636248, 0.18377693282636248, 0.1844106463878327, 0.1844106463878327, 0.1888466413181242, 0.1888466413181242, 0.19074778200253487, 0.19074778200253487, 0.1920152091254753, 0.1920152091254753, 0.19391634980988592, 0.19391634980988592, 0.19455006337135614, 0.19455006337135614, 0.1958174904942966, 0.1958174904942966, 0.19771863117870722, 0.19771863117870722, 0.19961977186311788, 0.19961977186311788, 0.2002534854245881, 0.2002534854245881, 0.2008871989860583, 0.2008871989860583, 0.20722433460076045, 0.20722433460076045, 0.20849176172370087, 0.20849176172370087, 0.21039290240811154, 0.21039290240811154, 0.21102661596958175, 0.21102661596958175, 0.21166032953105196, 0.21166032953105196, 0.21292775665399238, 0.21292775665399238, 0.21673003802281368, 0.21673003802281368, 0.2173637515842839, 0.2173637515842839, 0.21799746514575413, 0.21799746514575413, 0.21989860583016477, 0.21989860583016477, 0.22053231939163498, 0.22053231939163498, 0.2211660329531052, 0.2211660329531052, 0.22306717363751585, 0.22306717363751585, 0.22813688212927757, 0.22813688212927757, 0.23067173637515842, 0.23067173637515842, 0.2338403041825095, 0.2338403041825095, 0.23447401774397972, 0.23447401774397972, 0.2414448669201521, 0.2414448669201521, 0.2420785804816223, 0.2420785804816223, 0.24524714828897337, 0.24524714828897337, 0.2458808618504436, 0.2458808618504436, 0.24651457541191382, 0.24651457541191382, 0.25918884664131814, 0.25918884664131814, 0.26045627376425856, 0.26045627376425856, 0.26108998732572875, 0.26108998732572875, 0.261723700887199, 0.261723700887199, 0.2629911280101394, 0.2629911280101394, 0.26362484157160965, 0.26362484157160965, 0.2674271229404309, 0.2674271229404309, 0.270595690747782, 0.270595690747782, 0.2718631178707224, 0.2718631178707224, 0.27249683143219267, 0.27249683143219267, 0.2782002534854246, 0.2782002534854246, 0.28073510773130544, 0.28073510773130544, 0.2826362484157161, 0.2826362484157161, 0.28517110266159695, 0.28517110266159695, 0.29340937896070973, 0.29340937896070973, 0.2984790874524715, 0.2984790874524715, 0.2991128010139417, 0.2991128010139417, 0.2997465145754119, 0.2997465145754119, 0.30481622306717365, 0.30481622306717365, 0.30798479087452474, 0.30798479087452474, 0.31242078580481625, 0.31305449936628643, 0.31749049429657794, 0.31749049429657794, 0.31875792141951836, 0.31875792141951836, 0.32509505703422054, 0.32509505703422054, 0.3288973384030418, 0.3288973384030418, 0.3333333333333333, 0.3333333333333333, 0.3377693282636248, 0.3377693282636248, 0.33903675538656525, 0.33903675538656525, 0.3396704689480355, 0.3396704689480355, 0.3403041825095057, 0.3403041825095057, 0.34600760456273766, 0.34600760456273766, 0.34664131812420784, 0.34664131812420784, 0.35107731305449935, 0.35107731305449935, 0.35424588086185044, 0.35424588086185044, 0.35868187579214195, 0.35994930291508237, 0.35994930291508237, 0.3605830164765526, 0.3605830164765526, 0.3681875792141952, 0.3681875792141952, 0.3719898605830165, 0.3719898605830165, 0.37832699619771865, 0.37832699619771865, 0.38276299112801015, 0.38276299112801015, 0.38466413181242076, 0.38466413181242076, 0.38593155893536124, 0.38593155893536124, 0.39036755386565275, 0.39036755386565275, 0.3916349809885932, 0.3916349809885932, 0.3929024081115336, 0.3929024081115336, 0.39543726235741444, 0.39543726235741444, 0.3973384030418251, 0.3973384030418251, 0.40430925221799746, 0.40430925221799746, 0.4049429657794677, 0.4049429657794677, 0.4391634980988593, 0.4391634980988593, 0.43979721166032953, 0.43979721166032953, 0.44740177439797213, 0.44740177439797213, 0.4524714828897338, 0.4524714828897338, 0.4740177439797212, 0.4740177439797212, 0.47782002534854245, 0.47782002534854245, 0.4784537389100127, 0.4784537389100127, 0.49049429657794674, 0.49049429657794674, 0.4987325728770596, 0.4987325728770596, 0.5, 0.5, 0.5164765525982256, 0.5164765525982256, 0.5297845373891001, 0.5297845373891001, 0.532319391634981, 0.532319391634981, 0.5405576679340938, 0.5405576679340938, 0.5418250950570342, 0.5418250950570342, 0.5475285171102662, 0.5475285171102662, 0.5684410646387833, 0.5684410646387833, 0.5703422053231939, 0.5703422053231939, 0.5716096324461344, 0.5716096324461344, 0.5811153358681875, 0.5811153358681875, 0.5836501901140685, 0.5836501901140685, 0.5868187579214195, 0.5868187579214195, 0.5893536121673004, 0.5893536121673004, 0.5899873257287706, 0.5899873257287706, 0.5906210392902408, 0.5906210392902408, 0.5925221799746515, 0.5925221799746515, 0.5944233206590621, 0.5944233206590621, 0.5975918884664132, 0.5975918884664132, 0.6013941698352345, 0.6013941698352345, 0.6286438529784537, 0.6286438529784537, 0.629277566539924, 0.629277566539924, 0.638149556400507, 0.638149556400507, 0.6596958174904943, 0.6596958174904943, 0.6749049429657795, 0.6749049429657795, 0.6888466413181242, 0.6888466413181242, 0.6951837769328264, 0.6951837769328264, 0.7135614702154626, 0.7135614702154626, 0.7217997465145755, 0.7217997465145755, 0.7541191381495564, 0.7541191381495564, 0.7870722433460076, 0.7870722433460076, 0.7978453738910013, 0.7978453738910013, 0.8713561470215463, 0.8713561470215463, 1.0], \"y\": [0.0, 0.0018796992481203006, 0.018796992481203006, 0.018796992481203006, 0.02631578947368421, 0.02631578947368421, 0.03195488721804511, 0.03195488721804511, 0.06578947368421052, 0.06578947368421052, 0.07142857142857142, 0.07142857142857142, 0.08270676691729323, 0.08270676691729323, 0.09586466165413533, 0.09586466165413533, 0.10526315789473684, 0.10526315789473684, 0.11842105263157894, 0.11842105263157894, 0.14097744360902256, 0.14097744360902256, 0.14285714285714285, 0.14285714285714285, 0.15037593984962405, 0.15037593984962405, 0.15413533834586465, 0.15413533834586465, 0.15977443609022557, 0.15977443609022557, 0.16541353383458646, 0.16541353383458646, 0.16729323308270677, 0.16729323308270677, 0.17293233082706766, 0.17293233082706766, 0.17857142857142858, 0.17857142857142858, 0.19924812030075187, 0.20300751879699247, 0.20300751879699247, 0.21052631578947367, 0.21052631578947367, 0.212406015037594, 0.212406015037594, 0.22556390977443608, 0.22556390977443608, 0.2274436090225564, 0.2274436090225564, 0.23308270676691728, 0.23308270676691728, 0.2349624060150376, 0.2349624060150376, 0.24060150375939848, 0.24060150375939848, 0.25, 0.25, 0.2518796992481203, 0.2518796992481203, 0.2744360902255639, 0.2744360902255639, 0.2781954887218045, 0.2781954887218045, 0.2800751879699248, 0.2800751879699248, 0.2932330827067669, 0.2932330827067669, 0.3101503759398496, 0.3101503759398496, 0.3176691729323308, 0.3176691729323308, 0.31954887218045114, 0.31954887218045114, 0.32142857142857145, 0.32142857142857145, 0.32706766917293234, 0.32706766917293234, 0.33646616541353386, 0.33646616541353386, 0.3383458646616541, 0.3383458646616541, 0.3458646616541353, 0.3458646616541353, 0.3533834586466165, 0.3533834586466165, 0.3609022556390977, 0.3609022556390977, 0.37030075187969924, 0.37030075187969924, 0.37406015037593987, 0.37406015037593987, 0.37593984962406013, 0.37593984962406013, 0.37969924812030076, 0.37969924812030076, 0.3815789473684211, 0.3815789473684211, 0.38345864661654133, 0.38345864661654133, 0.38533834586466165, 0.38533834586466165, 0.3890977443609023, 0.3890977443609023, 0.39097744360902253, 0.39097744360902253, 0.39473684210526316, 0.39473684210526316, 0.39849624060150374, 0.39849624060150374, 0.40225563909774437, 0.40225563909774437, 0.40789473684210525, 0.40789473684210525, 0.4191729323308271, 0.4191729323308271, 0.42857142857142855, 0.42857142857142855, 0.43045112781954886, 0.43045112781954886, 0.4323308270676692, 0.4323308270676692, 0.43796992481203006, 0.43796992481203006, 0.4398496240601504, 0.4398496240601504, 0.44548872180451127, 0.44548872180451127, 0.4548872180451128, 0.4548872180451128, 0.45864661654135336, 0.45864661654135336, 0.4605263157894737, 0.4605263157894737, 0.4642857142857143, 0.4642857142857143, 0.4680451127819549, 0.4680451127819549, 0.4699248120300752, 0.4699248120300752, 0.4718045112781955, 0.4718045112781955, 0.4755639097744361, 0.4755639097744361, 0.4868421052631579, 0.4868421052631579, 0.4906015037593985, 0.4906015037593985, 0.4924812030075188, 0.4924812030075188, 0.49624060150375937, 0.49624060150375937, 0.4981203007518797, 0.4981203007518797, 0.5018796992481203, 0.5018796992481203, 0.5037593984962406, 0.5037593984962406, 0.5075187969924813, 0.5075187969924813, 0.5093984962406015, 0.5093984962406015, 0.5112781954887218, 0.5112781954887218, 0.5169172932330827, 0.5169172932330827, 0.518796992481203, 0.518796992481203, 0.5244360902255639, 0.5244360902255639, 0.5263157894736842, 0.5263157894736842, 0.5319548872180451, 0.5319548872180451, 0.5338345864661654, 0.5338345864661654, 0.5357142857142857, 0.5357142857142857, 0.5394736842105263, 0.5394736842105263, 0.5413533834586466, 0.5413533834586466, 0.5488721804511278, 0.5488721804511278, 0.5601503759398496, 0.5601503759398496, 0.5657894736842105, 0.5657894736842105, 0.5770676691729323, 0.5770676691729323, 0.5789473684210527, 0.5789473684210527, 0.5808270676691729, 0.5808270676691729, 0.5864661654135338, 0.5864661654135338, 0.5921052631578947, 0.5921052631578947, 0.5958646616541353, 0.5958646616541353, 0.599624060150376, 0.599624060150376, 0.6015037593984962, 0.6015037593984962, 0.6033834586466166, 0.6033834586466166, 0.6071428571428571, 0.6071428571428571, 0.6090225563909775, 0.6090225563909775, 0.6109022556390977, 0.6109022556390977, 0.6165413533834586, 0.6165413533834586, 0.618421052631579, 0.618421052631579, 0.6203007518796992, 0.6203007518796992, 0.6221804511278195, 0.6221804511278195, 0.6240601503759399, 0.6240601503759399, 0.6259398496240601, 0.6259398496240601, 0.6278195488721805, 0.6278195488721805, 0.631578947368421, 0.631578947368421, 0.6353383458646616, 0.6353383458646616, 0.6372180451127819, 0.6372180451127819, 0.6428571428571429, 0.6428571428571429, 0.6447368421052632, 0.6447368421052632, 0.6484962406015038, 0.6484962406015038, 0.6522556390977443, 0.6522556390977443, 0.6560150375939849, 0.6560150375939849, 0.6578947368421053, 0.6578947368421053, 0.6597744360902256, 0.6597744360902256, 0.6635338345864662, 0.6635338345864662, 0.6654135338345865, 0.6654135338345865, 0.6691729323308271, 0.6691729323308271, 0.6710526315789473, 0.6710526315789473, 0.6766917293233082, 0.6766917293233082, 0.6804511278195489, 0.6804511278195489, 0.6823308270676691, 0.6823308270676691, 0.6842105263157895, 0.6842105263157895, 0.6860902255639098, 0.6860902255639098, 0.6898496240601504, 0.6898496240601504, 0.6917293233082706, 0.6917293233082706, 0.693609022556391, 0.693609022556391, 0.6954887218045113, 0.6954887218045113, 0.6973684210526315, 0.6973684210526315, 0.7011278195488722, 0.7011278195488722, 0.7030075187969925, 0.7030075187969925, 0.7048872180451128, 0.7048872180451128, 0.7086466165413534, 0.7086466165413534, 0.7105263157894737, 0.7105263157894737, 0.7180451127819549, 0.7180451127819549, 0.7199248120300752, 0.7199248120300752, 0.7236842105263158, 0.7236842105263158, 0.7255639097744361, 0.7255639097744361, 0.7293233082706767, 0.7293233082706767, 0.7349624060150376, 0.7349624060150376, 0.7387218045112782, 0.7387218045112782, 0.7406015037593985, 0.7406015037593985, 0.7462406015037594, 0.7462406015037594, 0.7481203007518797, 0.7481203007518797, 0.75, 0.75, 0.7518796992481203, 0.7518796992481203, 0.7556390977443609, 0.7556390977443609, 0.7575187969924813, 0.7575187969924813, 0.7593984962406015, 0.7593984962406015, 0.7612781954887218, 0.7612781954887218, 0.7631578947368421, 0.7631578947368421, 0.7669172932330827, 0.7669172932330827, 0.768796992481203, 0.768796992481203, 0.7706766917293233, 0.7706766917293233, 0.7725563909774437, 0.7725563909774437, 0.7744360902255639, 0.7744360902255639, 0.7781954887218046, 0.7781954887218046, 0.7800751879699248, 0.7800751879699248, 0.7857142857142857, 0.7857142857142857, 0.7875939849624061, 0.7875939849624061, 0.7894736842105263, 0.7894736842105263, 0.7951127819548872, 0.7951127819548872, 0.8007518796992481, 0.8007518796992481, 0.8026315789473685, 0.8026315789473685, 0.806390977443609, 0.806390977443609, 0.8082706766917294, 0.8082706766917294, 0.8101503759398496, 0.8101503759398496, 0.8120300751879699, 0.8120300751879699, 0.8139097744360902, 0.8139097744360902, 0.8157894736842105, 0.8157894736842105, 0.8176691729323309, 0.8176691729323309, 0.8214285714285714, 0.8214285714285714, 0.8233082706766918, 0.8233082706766918, 0.8270676691729323, 0.8270676691729323, 0.8289473684210527, 0.8289473684210527, 0.8308270676691729, 0.8308270676691729, 0.8327067669172933, 0.8327067669172933, 0.8345864661654135, 0.8345864661654135, 0.8364661654135338, 0.8364661654135338, 0.8383458646616542, 0.8383458646616542, 0.8402255639097744, 0.8402255639097744, 0.8421052631578947, 0.8421052631578947, 0.8477443609022557, 0.8477443609022557, 0.849624060150376, 0.849624060150376, 0.8515037593984962, 0.8515037593984962, 0.8552631578947368, 0.8552631578947368, 0.8590225563909775, 0.8590225563909775, 0.8609022556390977, 0.8609022556390977, 0.8627819548872181, 0.8627819548872181, 0.8646616541353384, 0.8646616541353384, 0.8665413533834586, 0.8665413533834586, 0.868421052631579, 0.868421052631579, 0.8703007518796992, 0.8703007518796992, 0.8721804511278195, 0.8721804511278195, 0.8740601503759399, 0.8740601503759399, 0.8759398496240601, 0.8759398496240601, 0.8778195488721805, 0.8778195488721805, 0.8796992481203008, 0.8796992481203008, 0.8796992481203008, 0.881578947368421, 0.881578947368421, 0.8834586466165414, 0.8834586466165414, 0.8853383458646616, 0.8853383458646616, 0.8872180451127819, 0.8872180451127819, 0.8890977443609023, 0.8890977443609023, 0.8909774436090225, 0.8909774436090225, 0.8928571428571429, 0.8928571428571429, 0.8947368421052632, 0.8947368421052632, 0.8966165413533834, 0.8966165413533834, 0.900375939849624, 0.900375939849624, 0.9022556390977443, 0.9022556390977443, 0.9060150375939849, 0.9060150375939849, 0.9078947368421053, 0.9078947368421053, 0.9097744360902256, 0.9097744360902256, 0.9116541353383458, 0.9116541353383458, 0.9154135338345865, 0.9154135338345865, 0.9191729323308271, 0.9191729323308271, 0.9210526315789473, 0.9210526315789473, 0.9229323308270677, 0.9229323308270677, 0.924812030075188, 0.924812030075188, 0.9266917293233082, 0.9266917293233082, 0.9285714285714286, 0.9285714285714286, 0.9304511278195489, 0.9304511278195489, 0.9342105263157895, 0.9342105263157895, 0.9360902255639098, 0.9360902255639098, 0.9379699248120301, 0.9379699248120301, 0.9398496240601504, 0.9398496240601504, 0.9417293233082706, 0.9417293233082706, 0.943609022556391, 0.943609022556391, 0.9454887218045113, 0.9454887218045113, 0.9473684210526315, 0.9473684210526315, 0.9492481203007519, 0.9492481203007519, 0.9511278195488722, 0.9511278195488722, 0.9548872180451128, 0.9548872180451128, 0.956766917293233, 0.956766917293233, 0.9605263157894737, 0.9605263157894737, 0.9624060150375939, 0.9624060150375939, 0.9642857142857143, 0.9642857142857143, 0.9661654135338346, 0.9661654135338346, 0.9680451127819549, 0.9680451127819549, 0.9699248120300752, 0.9699248120300752, 0.9718045112781954, 0.9718045112781954, 0.9736842105263158, 0.9736842105263158, 0.9755639097744361, 0.9755639097744361, 0.9774436090225563, 0.9774436090225563, 0.9793233082706767, 0.9793233082706767, 0.981203007518797, 0.981203007518797, 0.9830827067669173, 0.9830827067669173, 0.9849624060150376, 0.9849624060150376, 0.9868421052631579, 0.9868421052631579, 0.9887218045112782, 0.9887218045112782, 0.9906015037593985, 0.9906015037593985, 0.9924812030075187, 0.9924812030075187, 0.9943609022556391, 0.9943609022556391, 0.9962406015037594, 0.9962406015037594, 0.9981203007518797, 0.9981203007518797, 1.0, 1.0], \"type\": \"scatter\", \"uid\": \"f809ff65-b37c-47dc-82ae-55bbd2f6be4f\", \"xaxis\": \"x2\", \"yaxis\": \"y2\"}, {\"line\": {\"color\": \"rgb(205, 12, 24)\", \"dash\": \"dot\", \"width\": 2}, \"x\": [0, 1], \"y\": [0, 1], \"type\": \"scatter\", \"uid\": \"a0711d9b-80ef-44d8-9479-66343a81670e\", \"xaxis\": \"x2\", \"yaxis\": \"y2\"}, {\"marker\": {\"color\": [2.1825042176934177, 0.6204068242906252, 0.3490516719008368, 0.304879369057637, 0.20263485783741184, 0.18714182637637405, 0.13797908892839605, 0.13746831416601762, 0.1283636862651213, 0.014109535974610139, 3.037556947089319e-07, 0.0, 0.0, 0.0, 0.0, 0.0, 0.0, 0.0, 0.0, 0.0, 0.0, -1.767234176504939e-05, -0.000153062272274858, -0.00017518751321177076, -0.004472494511481036, -0.027782633401467315, -0.02892304019928574, -0.040112779622169144, -0.042623816550058986, -0.04958738722469012, -0.06359900664108947, -0.10487373089353913, -0.12065581084776766, -0.15095328646897965, -0.15919640028357315, -0.17443229881607686, -0.19130482243693844, -0.19574110825167224, -0.22215754822622574, -0.2632390937578888, -0.3128667104302519, -0.6524634784421445, -0.7101064664126996, -0.8852419218877726, -3.59199056968887], \"colorscale\": \"Picnic\", \"line\": {\"color\": \"black\", \"width\": 0.6}}, \"name\": \"coefficients\", \"x\": [\"TotalCharges\", \"Contract_Month-to-month\", \"PaymentMethod_Electronic check\", \"TechSupport_No\", \"OnlineSecurity_No\", \"SeniorCitizen\", \"OnlineBackup_No\", \"InternetService_Fiber optic\", \"PhoneService_No\", \"StreamingTV_Yes\", \"DeviceProtection_No\", \"PaymentMethod_Bank transfer (automatic)\", \"PaperlessBilling_Yes\", \"StreamingMovies_Yes\", \"OnlineBackup_No internet service\", \"Dependents_No\", \"MultipleLines_No phone service\", \"MonthlyCharges\", \"MultipleLines_Yes\", \"Partner_No\", \"gender_Female\", \"StreamingMovies_No internet service\", \"OnlineBackup_Yes\", \"Contract_One year\", \"Partner_Yes\", \"PaymentMethod_Mailed check\", \"InternetService_No\", \"StreamingTV_No internet service\", \"DeviceProtection_No internet service\", \"DeviceProtection_Yes\", \"TechSupport_Yes\", \"PaymentMethod_Credit card (automatic)\", \"StreamingMovies_No\", \"OnlineSecurity_Yes\", \"gender_Male\", \"StreamingTV_No\", \"TechSupport_No internet service\", \"Dependents_Yes\", \"MultipleLines_No\", \"PhoneService_Yes\", \"PaperlessBilling_No\", \"InternetService_DSL\", \"OnlineSecurity_No internet service\", \"Contract_Two year\", \"tenure\"], \"y\": [2.1825042176934177, 0.6204068242906252, 0.3490516719008368, 0.304879369057637, 0.20263485783741184, 0.18714182637637405, 0.13797908892839605, 0.13746831416601762, 0.1283636862651213, 0.014109535974610139, 3.037556947089319e-07, 0.0, 0.0, 0.0, 0.0, 0.0, 0.0, 0.0, 0.0, 0.0, 0.0, -1.767234176504939e-05, -0.000153062272274858, -0.00017518751321177076, -0.004472494511481036, -0.027782633401467315, -0.02892304019928574, -0.040112779622169144, -0.042623816550058986, -0.04958738722469012, -0.06359900664108947, -0.10487373089353913, -0.12065581084776766, -0.15095328646897965, -0.15919640028357315, -0.17443229881607686, -0.19130482243693844, -0.19574110825167224, -0.22215754822622574, -0.2632390937578888, -0.3128667104302519, -0.6524634784421445, -0.7101064664126996, -0.8852419218877726, -3.59199056968887], \"type\": \"bar\", \"uid\": \"a95ba144-8dfe-4178-bfb6-516588bcbc34\", \"xaxis\": \"x3\", \"yaxis\": \"y3\"}], {\"annotations\": [{\"font\": {\"size\": 16}, \"showarrow\": false, \"text\": \"Confusion Matrix\", \"x\": 0.225, \"xanchor\": \"center\", \"xref\": \"paper\", \"y\": 1.0, \"yanchor\": \"bottom\", \"yref\": \"paper\"}, {\"font\": {\"size\": 16}, \"showarrow\": false, \"text\": \"Receiver operating characteristic\", \"x\": 0.775, \"xanchor\": \"center\", \"xref\": \"paper\", \"y\": 1.0, \"yanchor\": \"bottom\", \"yref\": \"paper\"}, {\"font\": {\"size\": 16}, \"showarrow\": false, \"text\": \"Feature Importances\", \"x\": 0.5, \"xanchor\": \"center\", \"xref\": \"paper\", \"y\": 0.375, \"yanchor\": \"bottom\", \"yref\": \"paper\"}], \"xaxis\": {\"anchor\": \"y\", \"domain\": [0.0, 0.45]}, \"yaxis\": {\"anchor\": \"x\", \"domain\": [0.625, 1.0]}, \"xaxis2\": {\"anchor\": \"y2\", \"domain\": [0.55, 1.0], \"title\": {\"text\": \"false positive rate\"}}, \"yaxis2\": {\"anchor\": \"x2\", \"domain\": [0.625, 1.0], \"title\": {\"text\": \"true positive rate\"}}, \"xaxis3\": {\"anchor\": \"y3\", \"domain\": [0.0, 1.0], \"tickfont\": {\"size\": 10}, \"showgrid\": true, \"tickangle\": 90}, \"yaxis3\": {\"anchor\": \"x3\", \"domain\": [0.0, 0.375]}, \"margin\": {\"b\": 195}, \"showlegend\": false, \"title\": {\"text\": \"Model performance\"}, \"autosize\": false, \"height\": 900, \"width\": 800, \"plot_bgcolor\": \"rgba(240,240,240, 0.95)\", \"paper_bgcolor\": \"rgba(240,240,240, 0.95)\"}, {\"showLink\": false, \"linkText\": \"Export to plot.ly\", \"plotlyServerURL\": \"https://plot.ly\"})});</script>"
      ],
      "text/vnd.plotly.v1+html": [
       "<div id=\"5f9663e6-54bd-4999-b75a-86a665f31843\" style=\"height: 900px; width: 800px;\" class=\"plotly-graph-div\"></div><script type=\"text/javascript\">require([\"plotly\"], function(Plotly) { window.PLOTLYENV=window.PLOTLYENV || {};window.PLOTLYENV.BASE_URL=\"https://plot.ly\";Plotly.newPlot(\"5f9663e6-54bd-4999-b75a-86a665f31843\", [{\"colorscale\": \"Picnic\", \"name\": \"matrix\", \"showscale\": false, \"x\": [\"Not churn\", \"Churn\"], \"y\": [\"Not churn\", \"Churn\"], \"z\": [[1439, 139], [245, 287]], \"type\": \"heatmap\", \"uid\": \"ad39f6ab-77ee-4755-8521-b2485194b6a0\", \"xaxis\": \"x\", \"yaxis\": \"y\"}, {\"line\": {\"color\": \"rgb(22, 96, 167)\", \"width\": 2}, \"name\": \"Roc : 0.7256937495830832\", \"x\": [0.0, 0.0, 0.0, 0.0006337135614702154, 0.0006337135614702154, 0.0012674271229404308, 0.0012674271229404308, 0.0019011406844106464, 0.0019011406844106464, 0.0025348542458808617, 0.0025348542458808617, 0.0031685678073510772, 0.0031685678073510772, 0.004435994930291508, 0.004435994930291508, 0.005069708491761723, 0.005069708491761723, 0.0063371356147021544, 0.0063371356147021544, 0.00697084917617237, 0.00697084917617237, 0.0076045627376425855, 0.0076045627376425855, 0.008238276299112801, 0.008238276299112801, 0.009505703422053232, 0.009505703422053232, 0.010139416983523447, 0.010139416983523447, 0.010773130544993664, 0.010773130544993664, 0.012040557667934094, 0.012040557667934094, 0.012674271229404309, 0.012674271229404309, 0.013307984790874524, 0.013307984790874524, 0.01394169835234474, 0.01394169835234474, 0.01394169835234474, 0.014575411913814956, 0.014575411913814956, 0.015209125475285171, 0.015209125475285171, 0.015842839036755388, 0.015842839036755388, 0.016476552598225603, 0.016476552598225603, 0.017743979721166033, 0.017743979721166033, 0.018377693282636248, 0.018377693282636248, 0.019011406844106463, 0.019011406844106463, 0.01964512040557668, 0.01964512040557668, 0.020278833967046894, 0.020278833967046894, 0.02091254752851711, 0.02091254752851711, 0.021546261089987327, 0.021546261089987327, 0.023447401774397972, 0.023447401774397972, 0.024081115335868188, 0.024081115335868188, 0.025348542458808618, 0.025348542458808618, 0.025982256020278833, 0.025982256020278833, 0.027249683143219267, 0.027249683143219267, 0.029150823827629912, 0.029150823827629912, 0.029784537389100127, 0.029784537389100127, 0.030418250950570342, 0.030418250950570342, 0.031051964512040557, 0.031051964512040557, 0.031685678073510776, 0.031685678073510776, 0.034220532319391636, 0.034220532319391636, 0.03485424588086185, 0.03485424588086185, 0.035487959442332066, 0.035487959442332066, 0.03612167300380228, 0.03612167300380228, 0.036755386565272496, 0.036755386565272496, 0.037389100126742715, 0.037389100126742715, 0.03802281368821293, 0.03802281368821293, 0.038656527249683145, 0.038656527249683145, 0.03929024081115336, 0.03929024081115336, 0.039923954372623575, 0.039923954372623575, 0.042458808618504436, 0.042458808618504436, 0.043726235741444866, 0.043726235741444866, 0.044993662864385296, 0.044993662864385296, 0.045627376425855515, 0.045627376425855515, 0.046261089987325726, 0.046261089987325726, 0.046894803548795945, 0.046894803548795945, 0.04752851711026616, 0.04752851711026616, 0.048162230671736375, 0.048162230671736375, 0.049429657794676805, 0.049429657794676805, 0.050697084917617236, 0.050697084917617236, 0.051330798479087454, 0.051330798479087454, 0.051964512040557666, 0.051964512040557666, 0.053865652724968315, 0.053865652724968315, 0.05449936628643853, 0.05449936628643853, 0.055133079847908745, 0.055133079847908745, 0.05576679340937896, 0.05576679340937896, 0.057034220532319393, 0.057034220532319393, 0.057667934093789605, 0.057667934093789605, 0.058301647655259824, 0.058301647655259824, 0.058935361216730035, 0.058935361216730035, 0.059569074778200254, 0.059569074778200254, 0.06273764258555133, 0.06273764258555133, 0.06337135614702155, 0.06337135614702155, 0.06527249683143219, 0.06527249683143219, 0.06653992395437262, 0.06653992395437262, 0.06844106463878327, 0.06844106463878327, 0.07160963244613434, 0.07160963244613434, 0.07287705956907478, 0.07287705956907478, 0.07477820025348543, 0.07477820025348543, 0.0779467680608365, 0.0779467680608365, 0.07858048162230671, 0.07858048162230671, 0.08238276299112801, 0.08238276299112801, 0.08301647655259822, 0.08301647655259822, 0.08491761723700887, 0.08491761723700887, 0.08555133079847908, 0.08555133079847908, 0.08618504435994931, 0.08618504435994931, 0.08681875792141952, 0.08681875792141952, 0.08808618504435994, 0.08808618504435994, 0.08871989860583017, 0.08871989860583017, 0.08998732572877059, 0.08998732572877059, 0.09062103929024082, 0.09062103929024082, 0.09125475285171103, 0.09125475285171103, 0.0944233206590621, 0.0944233206590621, 0.09632446134347275, 0.09632446134347275, 0.09695817490494296, 0.09695817490494296, 0.0982256020278834, 0.0982256020278834, 0.09949302915082382, 0.09949302915082382, 0.10012674271229405, 0.10012674271229405, 0.10076045627376426, 0.10076045627376426, 0.10139416983523447, 0.10139416983523447, 0.10266159695817491, 0.10266159695817491, 0.10392902408111533, 0.10392902408111533, 0.10456273764258556, 0.10456273764258556, 0.10583016476552598, 0.10583016476552598, 0.10646387832699619, 0.10646387832699619, 0.10709759188846642, 0.10709759188846642, 0.11153358681875793, 0.11153358681875793, 0.11216730038022814, 0.11216730038022814, 0.11343472750316856, 0.11343472750316856, 0.114702154626109, 0.114702154626109, 0.11533586818757921, 0.11533586818757921, 0.11596958174904944, 0.11596958174904944, 0.12103929024081116, 0.12103929024081116, 0.12610899873257286, 0.12610899873257286, 0.12737642585551331, 0.12737642585551331, 0.13307984790874525, 0.13307984790874525, 0.13434727503168567, 0.13434727503168567, 0.13624841571609633, 0.13624841571609633, 0.13751584283903676, 0.13751584283903676, 0.13814955640050697, 0.13814955640050697, 0.13878326996197718, 0.13878326996197718, 0.1394169835234474, 0.1394169835234474, 0.14068441064638784, 0.14068441064638784, 0.14131812420785805, 0.14131812420785805, 0.14258555133079848, 0.14258555133079848, 0.14575411913814956, 0.14575411913814956, 0.1476552598225602, 0.1476552598225602, 0.14955640050697086, 0.14955640050697086, 0.15399239543726237, 0.15399239543726237, 0.155893536121673, 0.155893536121673, 0.16476552598225602, 0.16476552598225602, 0.16666666666666666, 0.16666666666666666, 0.17110266159695817, 0.17110266159695817, 0.17363751584283904, 0.17363751584283904, 0.17870722433460076, 0.17870722433460076, 0.18124207858048164, 0.18124207858048164, 0.18377693282636248, 0.18377693282636248, 0.1844106463878327, 0.1844106463878327, 0.1888466413181242, 0.1888466413181242, 0.19074778200253487, 0.19074778200253487, 0.1920152091254753, 0.1920152091254753, 0.19391634980988592, 0.19391634980988592, 0.19455006337135614, 0.19455006337135614, 0.1958174904942966, 0.1958174904942966, 0.19771863117870722, 0.19771863117870722, 0.19961977186311788, 0.19961977186311788, 0.2002534854245881, 0.2002534854245881, 0.2008871989860583, 0.2008871989860583, 0.20722433460076045, 0.20722433460076045, 0.20849176172370087, 0.20849176172370087, 0.21039290240811154, 0.21039290240811154, 0.21102661596958175, 0.21102661596958175, 0.21166032953105196, 0.21166032953105196, 0.21292775665399238, 0.21292775665399238, 0.21673003802281368, 0.21673003802281368, 0.2173637515842839, 0.2173637515842839, 0.21799746514575413, 0.21799746514575413, 0.21989860583016477, 0.21989860583016477, 0.22053231939163498, 0.22053231939163498, 0.2211660329531052, 0.2211660329531052, 0.22306717363751585, 0.22306717363751585, 0.22813688212927757, 0.22813688212927757, 0.23067173637515842, 0.23067173637515842, 0.2338403041825095, 0.2338403041825095, 0.23447401774397972, 0.23447401774397972, 0.2414448669201521, 0.2414448669201521, 0.2420785804816223, 0.2420785804816223, 0.24524714828897337, 0.24524714828897337, 0.2458808618504436, 0.2458808618504436, 0.24651457541191382, 0.24651457541191382, 0.25918884664131814, 0.25918884664131814, 0.26045627376425856, 0.26045627376425856, 0.26108998732572875, 0.26108998732572875, 0.261723700887199, 0.261723700887199, 0.2629911280101394, 0.2629911280101394, 0.26362484157160965, 0.26362484157160965, 0.2674271229404309, 0.2674271229404309, 0.270595690747782, 0.270595690747782, 0.2718631178707224, 0.2718631178707224, 0.27249683143219267, 0.27249683143219267, 0.2782002534854246, 0.2782002534854246, 0.28073510773130544, 0.28073510773130544, 0.2826362484157161, 0.2826362484157161, 0.28517110266159695, 0.28517110266159695, 0.29340937896070973, 0.29340937896070973, 0.2984790874524715, 0.2984790874524715, 0.2991128010139417, 0.2991128010139417, 0.2997465145754119, 0.2997465145754119, 0.30481622306717365, 0.30481622306717365, 0.30798479087452474, 0.30798479087452474, 0.31242078580481625, 0.31305449936628643, 0.31749049429657794, 0.31749049429657794, 0.31875792141951836, 0.31875792141951836, 0.32509505703422054, 0.32509505703422054, 0.3288973384030418, 0.3288973384030418, 0.3333333333333333, 0.3333333333333333, 0.3377693282636248, 0.3377693282636248, 0.33903675538656525, 0.33903675538656525, 0.3396704689480355, 0.3396704689480355, 0.3403041825095057, 0.3403041825095057, 0.34600760456273766, 0.34600760456273766, 0.34664131812420784, 0.34664131812420784, 0.35107731305449935, 0.35107731305449935, 0.35424588086185044, 0.35424588086185044, 0.35868187579214195, 0.35994930291508237, 0.35994930291508237, 0.3605830164765526, 0.3605830164765526, 0.3681875792141952, 0.3681875792141952, 0.3719898605830165, 0.3719898605830165, 0.37832699619771865, 0.37832699619771865, 0.38276299112801015, 0.38276299112801015, 0.38466413181242076, 0.38466413181242076, 0.38593155893536124, 0.38593155893536124, 0.39036755386565275, 0.39036755386565275, 0.3916349809885932, 0.3916349809885932, 0.3929024081115336, 0.3929024081115336, 0.39543726235741444, 0.39543726235741444, 0.3973384030418251, 0.3973384030418251, 0.40430925221799746, 0.40430925221799746, 0.4049429657794677, 0.4049429657794677, 0.4391634980988593, 0.4391634980988593, 0.43979721166032953, 0.43979721166032953, 0.44740177439797213, 0.44740177439797213, 0.4524714828897338, 0.4524714828897338, 0.4740177439797212, 0.4740177439797212, 0.47782002534854245, 0.47782002534854245, 0.4784537389100127, 0.4784537389100127, 0.49049429657794674, 0.49049429657794674, 0.4987325728770596, 0.4987325728770596, 0.5, 0.5, 0.5164765525982256, 0.5164765525982256, 0.5297845373891001, 0.5297845373891001, 0.532319391634981, 0.532319391634981, 0.5405576679340938, 0.5405576679340938, 0.5418250950570342, 0.5418250950570342, 0.5475285171102662, 0.5475285171102662, 0.5684410646387833, 0.5684410646387833, 0.5703422053231939, 0.5703422053231939, 0.5716096324461344, 0.5716096324461344, 0.5811153358681875, 0.5811153358681875, 0.5836501901140685, 0.5836501901140685, 0.5868187579214195, 0.5868187579214195, 0.5893536121673004, 0.5893536121673004, 0.5899873257287706, 0.5899873257287706, 0.5906210392902408, 0.5906210392902408, 0.5925221799746515, 0.5925221799746515, 0.5944233206590621, 0.5944233206590621, 0.5975918884664132, 0.5975918884664132, 0.6013941698352345, 0.6013941698352345, 0.6286438529784537, 0.6286438529784537, 0.629277566539924, 0.629277566539924, 0.638149556400507, 0.638149556400507, 0.6596958174904943, 0.6596958174904943, 0.6749049429657795, 0.6749049429657795, 0.6888466413181242, 0.6888466413181242, 0.6951837769328264, 0.6951837769328264, 0.7135614702154626, 0.7135614702154626, 0.7217997465145755, 0.7217997465145755, 0.7541191381495564, 0.7541191381495564, 0.7870722433460076, 0.7870722433460076, 0.7978453738910013, 0.7978453738910013, 0.8713561470215463, 0.8713561470215463, 1.0], \"y\": [0.0, 0.0018796992481203006, 0.018796992481203006, 0.018796992481203006, 0.02631578947368421, 0.02631578947368421, 0.03195488721804511, 0.03195488721804511, 0.06578947368421052, 0.06578947368421052, 0.07142857142857142, 0.07142857142857142, 0.08270676691729323, 0.08270676691729323, 0.09586466165413533, 0.09586466165413533, 0.10526315789473684, 0.10526315789473684, 0.11842105263157894, 0.11842105263157894, 0.14097744360902256, 0.14097744360902256, 0.14285714285714285, 0.14285714285714285, 0.15037593984962405, 0.15037593984962405, 0.15413533834586465, 0.15413533834586465, 0.15977443609022557, 0.15977443609022557, 0.16541353383458646, 0.16541353383458646, 0.16729323308270677, 0.16729323308270677, 0.17293233082706766, 0.17293233082706766, 0.17857142857142858, 0.17857142857142858, 0.19924812030075187, 0.20300751879699247, 0.20300751879699247, 0.21052631578947367, 0.21052631578947367, 0.212406015037594, 0.212406015037594, 0.22556390977443608, 0.22556390977443608, 0.2274436090225564, 0.2274436090225564, 0.23308270676691728, 0.23308270676691728, 0.2349624060150376, 0.2349624060150376, 0.24060150375939848, 0.24060150375939848, 0.25, 0.25, 0.2518796992481203, 0.2518796992481203, 0.2744360902255639, 0.2744360902255639, 0.2781954887218045, 0.2781954887218045, 0.2800751879699248, 0.2800751879699248, 0.2932330827067669, 0.2932330827067669, 0.3101503759398496, 0.3101503759398496, 0.3176691729323308, 0.3176691729323308, 0.31954887218045114, 0.31954887218045114, 0.32142857142857145, 0.32142857142857145, 0.32706766917293234, 0.32706766917293234, 0.33646616541353386, 0.33646616541353386, 0.3383458646616541, 0.3383458646616541, 0.3458646616541353, 0.3458646616541353, 0.3533834586466165, 0.3533834586466165, 0.3609022556390977, 0.3609022556390977, 0.37030075187969924, 0.37030075187969924, 0.37406015037593987, 0.37406015037593987, 0.37593984962406013, 0.37593984962406013, 0.37969924812030076, 0.37969924812030076, 0.3815789473684211, 0.3815789473684211, 0.38345864661654133, 0.38345864661654133, 0.38533834586466165, 0.38533834586466165, 0.3890977443609023, 0.3890977443609023, 0.39097744360902253, 0.39097744360902253, 0.39473684210526316, 0.39473684210526316, 0.39849624060150374, 0.39849624060150374, 0.40225563909774437, 0.40225563909774437, 0.40789473684210525, 0.40789473684210525, 0.4191729323308271, 0.4191729323308271, 0.42857142857142855, 0.42857142857142855, 0.43045112781954886, 0.43045112781954886, 0.4323308270676692, 0.4323308270676692, 0.43796992481203006, 0.43796992481203006, 0.4398496240601504, 0.4398496240601504, 0.44548872180451127, 0.44548872180451127, 0.4548872180451128, 0.4548872180451128, 0.45864661654135336, 0.45864661654135336, 0.4605263157894737, 0.4605263157894737, 0.4642857142857143, 0.4642857142857143, 0.4680451127819549, 0.4680451127819549, 0.4699248120300752, 0.4699248120300752, 0.4718045112781955, 0.4718045112781955, 0.4755639097744361, 0.4755639097744361, 0.4868421052631579, 0.4868421052631579, 0.4906015037593985, 0.4906015037593985, 0.4924812030075188, 0.4924812030075188, 0.49624060150375937, 0.49624060150375937, 0.4981203007518797, 0.4981203007518797, 0.5018796992481203, 0.5018796992481203, 0.5037593984962406, 0.5037593984962406, 0.5075187969924813, 0.5075187969924813, 0.5093984962406015, 0.5093984962406015, 0.5112781954887218, 0.5112781954887218, 0.5169172932330827, 0.5169172932330827, 0.518796992481203, 0.518796992481203, 0.5244360902255639, 0.5244360902255639, 0.5263157894736842, 0.5263157894736842, 0.5319548872180451, 0.5319548872180451, 0.5338345864661654, 0.5338345864661654, 0.5357142857142857, 0.5357142857142857, 0.5394736842105263, 0.5394736842105263, 0.5413533834586466, 0.5413533834586466, 0.5488721804511278, 0.5488721804511278, 0.5601503759398496, 0.5601503759398496, 0.5657894736842105, 0.5657894736842105, 0.5770676691729323, 0.5770676691729323, 0.5789473684210527, 0.5789473684210527, 0.5808270676691729, 0.5808270676691729, 0.5864661654135338, 0.5864661654135338, 0.5921052631578947, 0.5921052631578947, 0.5958646616541353, 0.5958646616541353, 0.599624060150376, 0.599624060150376, 0.6015037593984962, 0.6015037593984962, 0.6033834586466166, 0.6033834586466166, 0.6071428571428571, 0.6071428571428571, 0.6090225563909775, 0.6090225563909775, 0.6109022556390977, 0.6109022556390977, 0.6165413533834586, 0.6165413533834586, 0.618421052631579, 0.618421052631579, 0.6203007518796992, 0.6203007518796992, 0.6221804511278195, 0.6221804511278195, 0.6240601503759399, 0.6240601503759399, 0.6259398496240601, 0.6259398496240601, 0.6278195488721805, 0.6278195488721805, 0.631578947368421, 0.631578947368421, 0.6353383458646616, 0.6353383458646616, 0.6372180451127819, 0.6372180451127819, 0.6428571428571429, 0.6428571428571429, 0.6447368421052632, 0.6447368421052632, 0.6484962406015038, 0.6484962406015038, 0.6522556390977443, 0.6522556390977443, 0.6560150375939849, 0.6560150375939849, 0.6578947368421053, 0.6578947368421053, 0.6597744360902256, 0.6597744360902256, 0.6635338345864662, 0.6635338345864662, 0.6654135338345865, 0.6654135338345865, 0.6691729323308271, 0.6691729323308271, 0.6710526315789473, 0.6710526315789473, 0.6766917293233082, 0.6766917293233082, 0.6804511278195489, 0.6804511278195489, 0.6823308270676691, 0.6823308270676691, 0.6842105263157895, 0.6842105263157895, 0.6860902255639098, 0.6860902255639098, 0.6898496240601504, 0.6898496240601504, 0.6917293233082706, 0.6917293233082706, 0.693609022556391, 0.693609022556391, 0.6954887218045113, 0.6954887218045113, 0.6973684210526315, 0.6973684210526315, 0.7011278195488722, 0.7011278195488722, 0.7030075187969925, 0.7030075187969925, 0.7048872180451128, 0.7048872180451128, 0.7086466165413534, 0.7086466165413534, 0.7105263157894737, 0.7105263157894737, 0.7180451127819549, 0.7180451127819549, 0.7199248120300752, 0.7199248120300752, 0.7236842105263158, 0.7236842105263158, 0.7255639097744361, 0.7255639097744361, 0.7293233082706767, 0.7293233082706767, 0.7349624060150376, 0.7349624060150376, 0.7387218045112782, 0.7387218045112782, 0.7406015037593985, 0.7406015037593985, 0.7462406015037594, 0.7462406015037594, 0.7481203007518797, 0.7481203007518797, 0.75, 0.75, 0.7518796992481203, 0.7518796992481203, 0.7556390977443609, 0.7556390977443609, 0.7575187969924813, 0.7575187969924813, 0.7593984962406015, 0.7593984962406015, 0.7612781954887218, 0.7612781954887218, 0.7631578947368421, 0.7631578947368421, 0.7669172932330827, 0.7669172932330827, 0.768796992481203, 0.768796992481203, 0.7706766917293233, 0.7706766917293233, 0.7725563909774437, 0.7725563909774437, 0.7744360902255639, 0.7744360902255639, 0.7781954887218046, 0.7781954887218046, 0.7800751879699248, 0.7800751879699248, 0.7857142857142857, 0.7857142857142857, 0.7875939849624061, 0.7875939849624061, 0.7894736842105263, 0.7894736842105263, 0.7951127819548872, 0.7951127819548872, 0.8007518796992481, 0.8007518796992481, 0.8026315789473685, 0.8026315789473685, 0.806390977443609, 0.806390977443609, 0.8082706766917294, 0.8082706766917294, 0.8101503759398496, 0.8101503759398496, 0.8120300751879699, 0.8120300751879699, 0.8139097744360902, 0.8139097744360902, 0.8157894736842105, 0.8157894736842105, 0.8176691729323309, 0.8176691729323309, 0.8214285714285714, 0.8214285714285714, 0.8233082706766918, 0.8233082706766918, 0.8270676691729323, 0.8270676691729323, 0.8289473684210527, 0.8289473684210527, 0.8308270676691729, 0.8308270676691729, 0.8327067669172933, 0.8327067669172933, 0.8345864661654135, 0.8345864661654135, 0.8364661654135338, 0.8364661654135338, 0.8383458646616542, 0.8383458646616542, 0.8402255639097744, 0.8402255639097744, 0.8421052631578947, 0.8421052631578947, 0.8477443609022557, 0.8477443609022557, 0.849624060150376, 0.849624060150376, 0.8515037593984962, 0.8515037593984962, 0.8552631578947368, 0.8552631578947368, 0.8590225563909775, 0.8590225563909775, 0.8609022556390977, 0.8609022556390977, 0.8627819548872181, 0.8627819548872181, 0.8646616541353384, 0.8646616541353384, 0.8665413533834586, 0.8665413533834586, 0.868421052631579, 0.868421052631579, 0.8703007518796992, 0.8703007518796992, 0.8721804511278195, 0.8721804511278195, 0.8740601503759399, 0.8740601503759399, 0.8759398496240601, 0.8759398496240601, 0.8778195488721805, 0.8778195488721805, 0.8796992481203008, 0.8796992481203008, 0.8796992481203008, 0.881578947368421, 0.881578947368421, 0.8834586466165414, 0.8834586466165414, 0.8853383458646616, 0.8853383458646616, 0.8872180451127819, 0.8872180451127819, 0.8890977443609023, 0.8890977443609023, 0.8909774436090225, 0.8909774436090225, 0.8928571428571429, 0.8928571428571429, 0.8947368421052632, 0.8947368421052632, 0.8966165413533834, 0.8966165413533834, 0.900375939849624, 0.900375939849624, 0.9022556390977443, 0.9022556390977443, 0.9060150375939849, 0.9060150375939849, 0.9078947368421053, 0.9078947368421053, 0.9097744360902256, 0.9097744360902256, 0.9116541353383458, 0.9116541353383458, 0.9154135338345865, 0.9154135338345865, 0.9191729323308271, 0.9191729323308271, 0.9210526315789473, 0.9210526315789473, 0.9229323308270677, 0.9229323308270677, 0.924812030075188, 0.924812030075188, 0.9266917293233082, 0.9266917293233082, 0.9285714285714286, 0.9285714285714286, 0.9304511278195489, 0.9304511278195489, 0.9342105263157895, 0.9342105263157895, 0.9360902255639098, 0.9360902255639098, 0.9379699248120301, 0.9379699248120301, 0.9398496240601504, 0.9398496240601504, 0.9417293233082706, 0.9417293233082706, 0.943609022556391, 0.943609022556391, 0.9454887218045113, 0.9454887218045113, 0.9473684210526315, 0.9473684210526315, 0.9492481203007519, 0.9492481203007519, 0.9511278195488722, 0.9511278195488722, 0.9548872180451128, 0.9548872180451128, 0.956766917293233, 0.956766917293233, 0.9605263157894737, 0.9605263157894737, 0.9624060150375939, 0.9624060150375939, 0.9642857142857143, 0.9642857142857143, 0.9661654135338346, 0.9661654135338346, 0.9680451127819549, 0.9680451127819549, 0.9699248120300752, 0.9699248120300752, 0.9718045112781954, 0.9718045112781954, 0.9736842105263158, 0.9736842105263158, 0.9755639097744361, 0.9755639097744361, 0.9774436090225563, 0.9774436090225563, 0.9793233082706767, 0.9793233082706767, 0.981203007518797, 0.981203007518797, 0.9830827067669173, 0.9830827067669173, 0.9849624060150376, 0.9849624060150376, 0.9868421052631579, 0.9868421052631579, 0.9887218045112782, 0.9887218045112782, 0.9906015037593985, 0.9906015037593985, 0.9924812030075187, 0.9924812030075187, 0.9943609022556391, 0.9943609022556391, 0.9962406015037594, 0.9962406015037594, 0.9981203007518797, 0.9981203007518797, 1.0, 1.0], \"type\": \"scatter\", \"uid\": \"f809ff65-b37c-47dc-82ae-55bbd2f6be4f\", \"xaxis\": \"x2\", \"yaxis\": \"y2\"}, {\"line\": {\"color\": \"rgb(205, 12, 24)\", \"dash\": \"dot\", \"width\": 2}, \"x\": [0, 1], \"y\": [0, 1], \"type\": \"scatter\", \"uid\": \"a0711d9b-80ef-44d8-9479-66343a81670e\", \"xaxis\": \"x2\", \"yaxis\": \"y2\"}, {\"marker\": {\"color\": [2.1825042176934177, 0.6204068242906252, 0.3490516719008368, 0.304879369057637, 0.20263485783741184, 0.18714182637637405, 0.13797908892839605, 0.13746831416601762, 0.1283636862651213, 0.014109535974610139, 3.037556947089319e-07, 0.0, 0.0, 0.0, 0.0, 0.0, 0.0, 0.0, 0.0, 0.0, 0.0, -1.767234176504939e-05, -0.000153062272274858, -0.00017518751321177076, -0.004472494511481036, -0.027782633401467315, -0.02892304019928574, -0.040112779622169144, -0.042623816550058986, -0.04958738722469012, -0.06359900664108947, -0.10487373089353913, -0.12065581084776766, -0.15095328646897965, -0.15919640028357315, -0.17443229881607686, -0.19130482243693844, -0.19574110825167224, -0.22215754822622574, -0.2632390937578888, -0.3128667104302519, -0.6524634784421445, -0.7101064664126996, -0.8852419218877726, -3.59199056968887], \"colorscale\": \"Picnic\", \"line\": {\"color\": \"black\", \"width\": 0.6}}, \"name\": \"coefficients\", \"x\": [\"TotalCharges\", \"Contract_Month-to-month\", \"PaymentMethod_Electronic check\", \"TechSupport_No\", \"OnlineSecurity_No\", \"SeniorCitizen\", \"OnlineBackup_No\", \"InternetService_Fiber optic\", \"PhoneService_No\", \"StreamingTV_Yes\", \"DeviceProtection_No\", \"PaymentMethod_Bank transfer (automatic)\", \"PaperlessBilling_Yes\", \"StreamingMovies_Yes\", \"OnlineBackup_No internet service\", \"Dependents_No\", \"MultipleLines_No phone service\", \"MonthlyCharges\", \"MultipleLines_Yes\", \"Partner_No\", \"gender_Female\", \"StreamingMovies_No internet service\", \"OnlineBackup_Yes\", \"Contract_One year\", \"Partner_Yes\", \"PaymentMethod_Mailed check\", \"InternetService_No\", \"StreamingTV_No internet service\", \"DeviceProtection_No internet service\", \"DeviceProtection_Yes\", \"TechSupport_Yes\", \"PaymentMethod_Credit card (automatic)\", \"StreamingMovies_No\", \"OnlineSecurity_Yes\", \"gender_Male\", \"StreamingTV_No\", \"TechSupport_No internet service\", \"Dependents_Yes\", \"MultipleLines_No\", \"PhoneService_Yes\", \"PaperlessBilling_No\", \"InternetService_DSL\", \"OnlineSecurity_No internet service\", \"Contract_Two year\", \"tenure\"], \"y\": [2.1825042176934177, 0.6204068242906252, 0.3490516719008368, 0.304879369057637, 0.20263485783741184, 0.18714182637637405, 0.13797908892839605, 0.13746831416601762, 0.1283636862651213, 0.014109535974610139, 3.037556947089319e-07, 0.0, 0.0, 0.0, 0.0, 0.0, 0.0, 0.0, 0.0, 0.0, 0.0, -1.767234176504939e-05, -0.000153062272274858, -0.00017518751321177076, -0.004472494511481036, -0.027782633401467315, -0.02892304019928574, -0.040112779622169144, -0.042623816550058986, -0.04958738722469012, -0.06359900664108947, -0.10487373089353913, -0.12065581084776766, -0.15095328646897965, -0.15919640028357315, -0.17443229881607686, -0.19130482243693844, -0.19574110825167224, -0.22215754822622574, -0.2632390937578888, -0.3128667104302519, -0.6524634784421445, -0.7101064664126996, -0.8852419218877726, -3.59199056968887], \"type\": \"bar\", \"uid\": \"a95ba144-8dfe-4178-bfb6-516588bcbc34\", \"xaxis\": \"x3\", \"yaxis\": \"y3\"}], {\"annotations\": [{\"font\": {\"size\": 16}, \"showarrow\": false, \"text\": \"Confusion Matrix\", \"x\": 0.225, \"xanchor\": \"center\", \"xref\": \"paper\", \"y\": 1.0, \"yanchor\": \"bottom\", \"yref\": \"paper\"}, {\"font\": {\"size\": 16}, \"showarrow\": false, \"text\": \"Receiver operating characteristic\", \"x\": 0.775, \"xanchor\": \"center\", \"xref\": \"paper\", \"y\": 1.0, \"yanchor\": \"bottom\", \"yref\": \"paper\"}, {\"font\": {\"size\": 16}, \"showarrow\": false, \"text\": \"Feature Importances\", \"x\": 0.5, \"xanchor\": \"center\", \"xref\": \"paper\", \"y\": 0.375, \"yanchor\": \"bottom\", \"yref\": \"paper\"}], \"xaxis\": {\"anchor\": \"y\", \"domain\": [0.0, 0.45]}, \"yaxis\": {\"anchor\": \"x\", \"domain\": [0.625, 1.0]}, \"xaxis2\": {\"anchor\": \"y2\", \"domain\": [0.55, 1.0], \"title\": {\"text\": \"false positive rate\"}}, \"yaxis2\": {\"anchor\": \"x2\", \"domain\": [0.625, 1.0], \"title\": {\"text\": \"true positive rate\"}}, \"xaxis3\": {\"anchor\": \"y3\", \"domain\": [0.0, 1.0], \"tickfont\": {\"size\": 10}, \"showgrid\": true, \"tickangle\": 90}, \"yaxis3\": {\"anchor\": \"x3\", \"domain\": [0.0, 0.375]}, \"margin\": {\"b\": 195}, \"showlegend\": false, \"title\": {\"text\": \"Model performance\"}, \"autosize\": false, \"height\": 900, \"width\": 800, \"plot_bgcolor\": \"rgba(240,240,240, 0.95)\", \"paper_bgcolor\": \"rgba(240,240,240, 0.95)\"}, {\"showLink\": false, \"linkText\": \"Export to plot.ly\", \"plotlyServerURL\": \"https://plot.ly\"})});</script>"
      ]
     },
     "metadata": {},
     "output_type": "display_data"
    },
    {
     "name": "stdout",
     "output_type": "stream",
     "text": [
      "[LibLinear][LibLinear][LibLinear][LibLinear][LibLinear][LibLinear][LibLinear][LibLinear][LibLinear][LibLinear][LibLinear][LibLinear][LibLinear][LibLinear][LibLinear][LibLinear][LibLinear][LibLinear][LibLinear][LibLinear][LibLinear][LibLinear][LibLinear][LibLinear][LibLinear][LibLinear][LibLinear][LibLinear][LibLinear][LibLinear][LibLinear][LibLinear][LibLinear][LibLinear][LibLinear][LibLinear][LibLinear][LibLinear][LibLinear][LibLinear][LibLinear][LibLinear][LibLinear][LibLinear][LibLinear][LibLinear][LibLinear][LibLinear][LibLinear][LibLinear]"
     ]
    },
    {
     "data": {
      "image/png": "[encoded data removed]",
      "text/plain": [
       "<Figure size 432x288 with 1 Axes>"
      ]
     },
     "metadata": {},
     "output_type": "display_data"
    }
   ],
   "source": [
    "# Getting the results for the Logistic Regression Model\n",
    "model_logit = LogisticRegression(C=clf.best_params_['C'],penalty='l1', verbose=5)\n",
    "telecom_churn_prediction(model_logit,X_train, X_test,y_train,y_test,\"coefficients\",threshold_plot = True)"
   ]
  },
  {
   "cell_type": "code",
   "execution_count": 112,
   "metadata": {
    "collapsed": true
   },
   "outputs": [
    {
     "name": "stdout",
     "output_type": "stream",
     "text": [
      "Populating the interactive namespace from numpy and matplotlib\n"
     ]
    },
    {
     "data": {
      "image/png": "[encoded data removed]",
      "text/plain": [
       "<PIL.PngImagePlugin.PngImageFile image mode=RGBA size=800x900 at 0x2A69B130E80>"
      ]
     },
     "execution_count": 112,
     "metadata": {},
     "output_type": "execute_result"
    }
   ],
   "source": [
    "# Unfortunately the plotly graph is not visible in Github and thus have imported the image Export here - \n",
    "%pylab inline\n",
    "from PIL import Image\n",
    "Image.open(\"logistic_regression.png\")"
   ]
  },
  {
   "cell_type": "markdown",
   "metadata": {
    "_uuid": "185b83162c70e65203bdc387d036f7d24ae8c129"
   },
   "source": [
    "**Observations**\n",
    "\n",
    "We can see that some variables have a negative relation to our predicted variable (Churn), while some have positive relation. Negative relation means that likeliness of churn decreases with that variable. Let us summarize some of the interesting features below:\n",
    "* As we saw in our EDA, having a 2 month contract reduces chances of churn. 2 month contract along with tenure have the most negative relation with Churn as predicted by logistic regressions\n",
    "* Having DSL internet service also reduces the proability of Churn\n",
    "* Lastly, total charges, monthly contracts, fibre optic internet services and seniority can lead to higher churn rates. This is interesting because although fibre optic services are faster, customers are  likely to churn because of it. I think we need to explore more to better understad why this is happening. \n",
    "\n",
    "Any hypothesis on the above would be really helpful! "
   ]
  },
  {
   "cell_type": "markdown",
   "metadata": {
    "_uuid": "d8ee107a6c58397a1f6f073032cde2c20c76fc15"
   },
   "source": [
    "**2. Random Forest**"
   ]
  },
  {
   "cell_type": "code",
   "execution_count": 31,
   "metadata": {
    "_uuid": "352d2332ff650ec1e22521c46790629295bcb1c7"
   },
   "outputs": [
    {
     "name": "stdout",
     "output_type": "stream",
     "text": [
      "0.8088130774697939\n"
     ]
    }
   ],
   "source": [
    "from sklearn.ensemble import RandomForestClassifier\n",
    "X_train, X_test, y_train, y_test = train_test_split(X, y, test_size=0.2, random_state=101)\n",
    "model_rf = RandomForestClassifier(n_estimators=1000 , oob_score = True, n_jobs = -1,\n",
    "                                  random_state =50, max_features = \"auto\",\n",
    "                                  max_leaf_nodes = 30)\n",
    "model_rf.fit(X_train, y_train)\n",
    "\n",
    "# Make predictions\n",
    "prediction_test = model_rf.predict(X_test)\n",
    "print (metrics.accuracy_score(y_test, prediction_test))"
   ]
  },
  {
   "cell_type": "code",
   "execution_count": 32,
   "metadata": {
    "_uuid": "ad587d99c32b5998fae79beaf9b508c4345e8ad2",
    "scrolled": false
   },
   "outputs": [
    {
     "data": {
      "text/plain": [
       "<matplotlib.axes._subplots.AxesSubplot at 0x15e42570>"
      ]
     },
     "execution_count": 32,
     "metadata": {},
     "output_type": "execute_result"
    },
    {
     "data": {
      "image/png": "[encoded data removed]",
      "text/plain": [
       "<Figure size 432x288 with 1 Axes>"
      ]
     },
     "metadata": {},
     "output_type": "display_data"
    }
   ],
   "source": [
    "importances = model_rf.feature_importances_\n",
    "weights = pd.Series(importances,\n",
    "                 index=X.columns.values)\n",
    "weights.sort_values()[-10:].plot(kind = 'barh')"
   ]
  },
  {
   "cell_type": "markdown",
   "metadata": {
    "_uuid": "8dc6a21dd39575a473ca7d7e8575bd192a313027"
   },
   "source": [
    "**Observations:**\n",
    "\n",
    "* From random forest algorithm, monthly contract, tenure and total charges are the most important predictor variables to predict churn.\n",
    "* The results from random forest are very similar to that of the logistic regression and in line to what we had expected from our EDA"
   ]
  },
  {
   "cell_type": "markdown",
   "metadata": {
    "_uuid": "d66067184c40bb775576854fcd1d2d00d1e2ada5"
   },
   "source": [
    "**3. Support Vecor Machine (SVM)**"
   ]
  },
  {
   "cell_type": "code",
   "execution_count": 33,
   "metadata": {
    "_uuid": "2efb7cabe5d6c1ec276becf6d036f8eea3b8d492"
   },
   "outputs": [],
   "source": [
    "X_train, X_test, y_train, y_test = train_test_split(X, y, test_size=0.2, random_state=99)"
   ]
  },
  {
   "cell_type": "code",
   "execution_count": 34,
   "metadata": {
    "_uuid": "9bd8fcf307bdf2092e6b2e2cd3dfc12e82400e19"
   },
   "outputs": [
    {
     "data": {
      "text/plain": [
       "0.820184790334044"
      ]
     },
     "execution_count": 34,
     "metadata": {},
     "output_type": "execute_result"
    }
   ],
   "source": [
    "from sklearn.svm import SVC\n",
    "\n",
    "model.svm = SVC(kernel='linear') \n",
    "model.svm.fit(X_train,y_train)\n",
    "preds = model.svm.predict(X_test)\n",
    "metrics.accuracy_score(y_test, preds)"
   ]
  },
  {
   "cell_type": "code",
   "execution_count": 35,
   "metadata": {
    "_uuid": "231b49ac18e47fa50c817b4ee1915af17c9d3cd2"
   },
   "outputs": [
    {
     "name": "stdout",
     "output_type": "stream",
     "text": [
      "[[953  89]\n",
      " [164 201]]\n"
     ]
    }
   ],
   "source": [
    "# Create the Confusion matrix\n",
    "from sklearn.metrics import classification_report, confusion_matrix  \n",
    "print(confusion_matrix(y_test,preds))  "
   ]
  },
  {
   "cell_type": "markdown",
   "metadata": {
    "_uuid": "126ddb51cd0b24313451a303d7685c6f68335823"
   },
   "source": [
    "Wth SVM I was able to increase the accuracy to upto 82%. However, we need to take a deeper look at the true positive and true negative rates, including the Area Under the Curve (AUC) for a better prediction. I will explore this soon. Stay Tuned!"
   ]
  },
  {
   "cell_type": "markdown",
   "metadata": {},
   "source": [
    "### 4. ADABoost"
   ]
  },
  {
   "cell_type": "code",
   "execution_count": 58,
   "metadata": {},
   "outputs": [
    {
     "data": {
      "text/plain": [
       "0.8104265402843602"
      ]
     },
     "execution_count": 58,
     "metadata": {},
     "output_type": "execute_result"
    }
   ],
   "source": [
    "# AdaBoost Algorithm\n",
    "from sklearn.ensemble import AdaBoostClassifier\n",
    "model = AdaBoostClassifier()\n",
    "# n_estimators = 50 (default value) \n",
    "# base_estimator = DecisionTreeClassifier (default value)\n",
    "model.fit(X_train,y_train)\n",
    "preds = model.predict(X_test)\n",
    "metrics.accuracy_score(y_test, preds)"
   ]
  },
  {
   "cell_type": "markdown",
   "metadata": {},
   "source": [
    "### 5. XG Boost"
   ]
  },
  {
   "cell_type": "code",
   "execution_count": 70,
   "metadata": {},
   "outputs": [],
   "source": [
    "X_train, X_test, y_train, y_test = train_test_split(X, y, test_size=0.2, random_state=99)"
   ]
  },
  {
   "cell_type": "code",
   "execution_count": 71,
   "metadata": {},
   "outputs": [
    {
     "data": {
      "text/plain": [
       "0.8294243070362474"
      ]
     },
     "execution_count": 71,
     "metadata": {},
     "output_type": "execute_result"
    }
   ],
   "source": [
    "from xgboost import XGBClassifier\n",
    "model = XGBClassifier()\n",
    "model.fit(X_train, y_train)\n",
    "preds = model.predict(X_test)\n",
    "metrics.accuracy_score(y_test, preds)"
   ]
  },
  {
   "cell_type": "code",
   "execution_count": 73,
   "metadata": {},
   "outputs": [
    {
     "data": {
      "text/plain": [
       "0.742434201877317"
      ]
     },
     "execution_count": 73,
     "metadata": {},
     "output_type": "execute_result"
    }
   ],
   "source": [
    "roc_auc_score(y_test,preds)"
   ]
  },
  {
   "cell_type": "markdown",
   "metadata": {},
   "source": [
    "### 6. Neural Networks"
   ]
  },
  {
   "cell_type": "code",
   "execution_count": 74,
   "metadata": {},
   "outputs": [
    {
     "name": "stderr",
     "output_type": "stream",
     "text": [
      "C:\\Users\\bandi\\Anaconda3\\lib\\site-packages\\h5py\\__init__.py:36: FutureWarning: Conversion of the second argument of issubdtype from `float` to `np.floating` is deprecated. In future, it will be treated as `np.float64 == np.dtype(float).type`.\n",
      "  from ._conv import register_converters as _register_converters\n",
      "Using TensorFlow backend.\n"
     ]
    }
   ],
   "source": [
    "from keras.models import Sequential\n",
    "from keras.layers import Dense\n",
    "from keras.wrappers.scikit_learn import KerasClassifier\n",
    "from sklearn.model_selection import cross_val_score\n",
    "from sklearn.preprocessing import LabelEncoder\n",
    "from sklearn.model_selection import StratifiedKFold\n",
    "from sklearn.preprocessing import StandardScaler\n",
    "from sklearn.pipeline import Pipeline"
   ]
  },
  {
   "cell_type": "code",
   "execution_count": 87,
   "metadata": {},
   "outputs": [],
   "source": [
    "def create_baseline():\n",
    "    # create model\n",
    "    model = Sequential()\n",
    "    model.add(Dense(10, input_dim=45, kernel_initializer='normal', activation='relu'))\n",
    "    model.add(Dense(1, kernel_initializer='normal', activation='sigmoid'))\n",
    "    # Compile model\n",
    "    model.compile(loss='binary_crossentropy', optimizer='adam', metrics=['accuracy'])\n",
    "    return model"
   ]
  },
  {
   "cell_type": "code",
   "execution_count": 88,
   "metadata": {},
   "outputs": [
    {
     "name": "stdout",
     "output_type": "stream",
     "text": [
      "Results: 79.36% (1.79%)\n"
     ]
    }
   ],
   "source": [
    "# evaluate model with standardized dataset\n",
    "estimator = KerasClassifier(build_fn=create_baseline, epochs=100, batch_size=5, verbose=0)\n",
    "kfold = StratifiedKFold(n_splits=10, shuffle=True, random_state=99)\n",
    "results = cross_val_score(estimator, X_train, y_train, cv=kfold)\n",
    "print(\"Results: %.2f%% (%.2f%%)\" % (results.mean()*100, results.std()*100))"
   ]
  },
  {
   "cell_type": "markdown",
   "metadata": {},
   "source": [
    "Clearly Neural Network did not give us good results in this case"
   ]
  },
  {
   "cell_type": "code",
   "execution_count": null,
   "metadata": {},
   "outputs": [],
   "source": []
  }
 ],
 "metadata": {
  "kernelspec": {
   "display_name": "Python 3",
   "language": "python",
   "name": "python3"
  },
  "language_info": {
   "codemirror_mode": {
    "name": "ipython",
    "version": 3
   },
   "file_extension": ".py",
   "mimetype": "text/x-python",
   "name": "python",
   "nbconvert_exporter": "python",
   "pygments_lexer": "ipython3",
   "version": "3.6.5"
  }
 },
 "nbformat": 4,
 "nbformat_minor": 1
}
